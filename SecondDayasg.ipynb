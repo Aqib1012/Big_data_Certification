{
 "cells": [
  {
   "cell_type": "markdown",
   "id": "08db19c6",
   "metadata": {},
   "source": [
    "####### Calculator to show age in months,days,min an sec"
   ]
  },
  {
   "cell_type": "code",
   "execution_count": null,
   "id": "acfef68a",
   "metadata": {},
   "outputs": [
    {
     "name": "stdout",
     "output_type": "stream",
     "text": [
      "##### Your age is in #####\n",
      "\n",
      "Month's = 408.0\n",
      "Day's = 12410.0\n",
      "Min's = 17870400.0\n",
      "Sec's = 1072224000.0\n"
     ]
    }
   ],
   "source": [
    "age=float(input(\"Enter Your age in Years\"))\n",
    "\n",
    "months=age*12\n",
    "days=age*365\n",
    "min=days*24*60\n",
    "sec=min*60\n",
    "\n",
    "print(\"##### Your age is in #####\\n\")\n",
    "\n",
    "#print(\"Month's =\",months,\"\\n\",\"Day's =\", days, \"\\n\" ,\"Min's =\", min ,\"\\n\" ,\"Sec's =\" ,sec)\n",
    "#we can write this also as write below\n",
    "\n",
    "print(f\"Month's = {months}\\nDay's = {days}\\nMin's = {min}\\nSec's = {sec}\",)\n",
    "\n",
    "#f in print statement is called f-string its a way to write veriables in string using {} bralets\n",
    "\n"
   ]
  },
  {
   "cell_type": "code",
   "execution_count": null,
   "id": "e95877a2",
   "metadata": {},
   "outputs": [],
   "source": []
  }
 ],
 "metadata": {
  "kernelspec": {
   "display_name": "Python 3",
   "language": "python",
   "name": "python3"
  },
  "language_info": {
   "codemirror_mode": {
    "name": "ipython",
    "version": 3
   },
   "file_extension": ".py",
   "mimetype": "text/x-python",
   "name": "python",
   "nbconvert_exporter": "python",
   "pygments_lexer": "ipython3",
   "version": "3.12.4"
  }
 },
 "nbformat": 4,
 "nbformat_minor": 5
}
