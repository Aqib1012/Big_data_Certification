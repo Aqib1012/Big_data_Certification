{
 "cells": [
  {
   "cell_type": "markdown",
   "id": "b30b4427",
   "metadata": {},
   "source": [
    "####### LIST"
   ]
  },
  {
   "cell_type": "code",
   "execution_count": 1,
   "id": "80a2f4ae",
   "metadata": {},
   "outputs": [
    {
     "name": "stdout",
     "output_type": "stream",
     "text": [
      "['Cat', 'dog', 'Lion', 'ELephant']\n"
     ]
    }
   ],
   "source": [
    "#How to create list in python\n",
    "\n",
    "Animalslist=[\"Cat\",\"dog\",\"Lion\",\"ELephant\"]\n",
    "\n",
    "print(Animalslist)"
   ]
  },
  {
   "cell_type": "code",
   "execution_count": null,
   "id": "80f91730",
   "metadata": {},
   "outputs": [
    {
     "data": {
      "text/plain": [
       "'Lion'"
      ]
     },
     "execution_count": 17,
     "metadata": {},
     "output_type": "execute_result"
    }
   ],
   "source": [
    "#How to access list elements in python\n",
    "\n",
    "Animalslist1=[\"Cat\",\"dog\",\"Lion\",\"ELephant\"]\n",
    "\n",
    "Animalslist1[0]\n",
    "Animalslist1[1]\n",
    "Animalslist1[2]\n",
    "Animalslist1[3]\n",
    "Animalslist1[-1]"
   ]
  },
  {
   "cell_type": "code",
   "execution_count": 11,
   "id": "5806c5d3",
   "metadata": {},
   "outputs": [
    {
     "name": "stdout",
     "output_type": "stream",
     "text": [
      "['Cow', 'dog', 'Lion', 'ELephant']\n"
     ]
    }
   ],
   "source": [
    "#How to modify list  in python\n",
    "\n",
    "Animalslist2=[\"Cat\",\"dog\",\"Lion\",\"ELephant\"]\n",
    "\n",
    "Animalslist2[0]=\"Cow\"\n",
    "\n",
    "print(Animalslist2)\n",
    "\n"
   ]
  },
  {
   "cell_type": "code",
   "execution_count": null,
   "id": "4ac11285",
   "metadata": {},
   "outputs": [
    {
     "name": "stdout",
     "output_type": "stream",
     "text": [
      "1\n",
      "[]\n",
      "Lion\n",
      "1\n"
     ]
    }
   ],
   "source": [
    "#Methods of list  in python\n",
    "Animalslist3=[\"Cat\",\"dog\",\"Lion\",\"ELephant\"]\n",
    "Animalslist4=[]\n",
    "\n",
    "Animalslist3.append(\"ELephant\") #append func is use to add value in end of the list\n",
    "Animalslist3.insert(2,\"Sparrow\") #insert function is use to add value at specific index of list\n",
    "Animalslist3.remove(\"ELephant\")#remove func is use to delete  Specific item from list if there is duplicate items first one will delete\n",
    "Animalslist3.pop()#Pop func is use to delete end value of list\n",
    "Animalslist4=Animalslist3.pop() #this will save the pop value in list4\n",
    "index=Animalslist3.index(\"dog\") #index fucn will show the index number\n",
    "print(Animalslist3.count(\"dog\"))#this will return how many times dog word is in list\n",
    "Animalslist3.sort() #this func is use for Sorts the list in ascending order\n",
    "Animalslist3.reverse() #this func is use for reverse the list in ascending order\n",
    "Animalslist3.clear() #This will delete items from list\n",
    "\n",
    "\n",
    "\n",
    "\n",
    "\n",
    "print(Animalslist3)\n",
    "print(Animalslist4)\n",
    "print(index)\n"
   ]
  },
  {
   "cell_type": "code",
   "execution_count": null,
   "id": "e24d3dfe",
   "metadata": {},
   "outputs": [
    {
     "name": "stdout",
     "output_type": "stream",
     "text": [
      "[3, 4, 5]\n",
      "[1, 2, 3, 4, 5]\n",
      "[6, 7, 8, 9]\n",
      "[1, 3, 5, 7, 9]\n",
      "[9, 8, 7, 6, 5, 4, 3, 2, 1]\n",
      "1\n",
      "2\n",
      "3\n",
      "4\n",
      "5\n",
      "6\n",
      "7\n",
      "8\n",
      "9\n",
      "0 1\n",
      "1 2\n",
      "2 3\n",
      "3 4\n",
      "4 5\n",
      "5 6\n",
      "6 7\n",
      "7 8\n",
      "8 9\n"
     ]
    }
   ],
   "source": [
    "# Slicing in list List\n",
    "\n",
    "numbers=[1,2,3,4,5,6,7,8,9]\n",
    "\n",
    "print(numbers[2:5]) #this will print from index 2 to index 4\n",
    "print(numbers[:5]) #this will print from start to index 4\n",
    "print(numbers[5:]) #this will print form index 5 to onward\n",
    "print(numbers[::2]) #this will print by ignore every one index\n",
    "print(numbers[::-1]) #this will print reverse list\n",
    "\n",
    "for i in numbers:       ### Iterating Over List\n",
    "    print(i)\n",
    "\n",
    "for i,ii in enumerate(numbers):   # Iterating with index\n",
    "    print(i,ii)    "
   ]
  },
  {
   "cell_type": "code",
   "execution_count": 43,
   "id": "d7749bcd",
   "metadata": {},
   "outputs": [
    {
     "name": "stdout",
     "output_type": "stream",
     "text": [
      "[2, 4, 6, 8]\n"
     ]
    }
   ],
   "source": [
    "# List Comprehension\n",
    "\n",
    "#list comprehension python mai shorcut way h jo allow krta k ak e line mai list fil kr skty ye append ka shortcut ha\n",
    "\n",
    "nums=[ i for i in range(1,10) if i%2==0]\n",
    "\n",
    "print(nums)\n"
   ]
  },
  {
   "cell_type": "code",
   "execution_count": 51,
   "id": "45384baf",
   "metadata": {},
   "outputs": [
    {
     "name": "stdout",
     "output_type": "stream",
     "text": [
      "...................Example 1................\n",
      "Don't forgrt to pay the utility bills\n",
      "To Do List remaining\n",
      "-Buy Groceries\n",
      "-Pay bills\n",
      "-Schedule meeting\n",
      "-Go For a Run\n",
      "...................Example 2................\n",
      "Average Grade: 88.00\n",
      "Highest Grade: 95\n",
      "Lowest Grade: 78\n",
      "...................Example 3................\n",
      "oranges are in stock.\n",
      "Inventory List:\n",
      "- apples\n",
      "- oranges\n",
      "- grapes\n",
      "- strawberries\n",
      "...................Example 4................\n",
      "Positive Feedback Count: 2\n",
      "User Feedback:\n",
      "- Great service!\n",
      "- Very satisfied\n",
      "- Could be better\n",
      "- Excellent experience\n",
      "- Not happy with the service\n"
     ]
    }
   ],
   "source": [
    "# Real-World Examples Using Lists in Python\n",
    "\n",
    "#Example 1. Manage A To Do List\n",
    "#Create a To Do List To Keep Track OF Tasks\n",
    "print(\"...................Example 1................\") \n",
    "to_do_list=[\"Buy Groceries\",\"Clean the house\",\"Pay bills\"]\n",
    "\n",
    "## Adding to task\n",
    "to_do_list.append(\"Schedule meeting\")\n",
    "to_do_list.append(\"Go For a Run\")\n",
    "\n",
    "## Removing a completed task\n",
    "to_do_list.remove(\"Clean the house\")\n",
    "\n",
    "## checking if a task is in the list\n",
    "if \"Pay bills\" in to_do_list:\n",
    "    print(\"Don't forgrt to pay the utility bills\")\n",
    "\n",
    "print(\"To Do List remaining\")\n",
    "for task in to_do_list:\n",
    "    print(f\"-{task}\")\n",
    "\n",
    "\n",
    "#Example 2: Organizing Student Grades\n",
    "#Create a list to store and calculate average grades for students    \n",
    "print(\"...................Example 2................\")          \n",
    "\n",
    "# Organizing student grades\n",
    "grades = [85, 92, 78, 90, 88]\n",
    "\n",
    "# Adding a new grade\n",
    "grades.append(95)\n",
    "\n",
    "# Calculating the average grade\n",
    "average_grade = sum(grades) / len(grades)\n",
    "print(f\"Average Grade: {average_grade:.2f}\")\n",
    "\n",
    "# Finding the highest and lowest grades\n",
    "highest_grade = max(grades)\n",
    "lowest_grade = min(grades)\n",
    "print(f\"Highest Grade: {highest_grade}\")\n",
    "print(f\"Lowest Grade: {lowest_grade}\")\n",
    "\n",
    "\n",
    "#Example 3: Managing An Inventory\n",
    "#Use a list to manage inventory items in a store\n",
    "\n",
    "print(\"...................Example 3................\") \n",
    "\n",
    "# Managing an inventory\n",
    "inventory = [\"apples\", \"bananas\", \"oranges\", \"grapes\"]\n",
    "\n",
    "# Adding a new item\n",
    "inventory.append(\"strawberries\")\n",
    "\n",
    "# Removing an item that is out of stock\n",
    "inventory.remove(\"bananas\")\n",
    "\n",
    "# Checking if an item is in stock\n",
    "item = \"oranges\"\n",
    "if item in inventory:\n",
    "    print(f\"{item} are in stock.\")\n",
    "else:\n",
    "    print(f\"{item} are out of stock.\")\n",
    "\n",
    "# Printing the inventory\n",
    "print(\"Inventory List:\")\n",
    "for item in inventory:\n",
    "    print(f\"- {item}\")\n",
    "\n",
    "\n",
    "#Example 4:Collecting User Feedback\n",
    "#Use a list to collect and analyze user feedback.\n",
    "\n",
    "print(\"...................Example 4................\") \n",
    "# Collecting user feedback\n",
    "feedback = [\"Great service!\", \"Very satisfied\", \"Could be better\", \"Excellent experience\"]\n",
    "\n",
    "# Adding new feedback\n",
    "feedback.append(\"Not happy with the service\")\n",
    "\n",
    "# Counting specific feedback\n",
    "positive_feedback_count = sum(1 for comment in feedback if \"great\" in comment.lower()  or \"excellent\" in comment.lower())\n",
    "print(f\"Positive Feedback Count: {positive_feedback_count}\")\n",
    "\n",
    "# Printing all feedback\n",
    "print(\"User Feedback:\")\n",
    "for comment in feedback:\n",
    "    print(f\"- {comment}\")\n",
    "\n",
    "\n"
   ]
  }
 ],
 "metadata": {
  "kernelspec": {
   "display_name": "Python 3",
   "language": "python",
   "name": "python3"
  },
  "language_info": {
   "codemirror_mode": {
    "name": "ipython",
    "version": 3
   },
   "file_extension": ".py",
   "mimetype": "text/x-python",
   "name": "python",
   "nbconvert_exporter": "python",
   "pygments_lexer": "ipython3",
   "version": "3.12.4"
  }
 },
 "nbformat": 4,
 "nbformat_minor": 5
}
