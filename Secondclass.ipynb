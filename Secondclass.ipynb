{
 "cells": [
  {
   "cell_type": "markdown",
   "id": "f3153132",
   "metadata": {},
   "source": [
    "####### 2nd day class notes"
   ]
  },
  {
   "cell_type": "code",
   "execution_count": null,
   "id": "2923e082",
   "metadata": {},
   "outputs": [
    {
     "name": "stdout",
     "output_type": "stream",
     "text": [
      "Hellow\n",
      "36\n",
      "true\n",
      "<class 'int'>\n",
      "<class 'str'>\n",
      "400\n",
      "True\n"
     ]
    }
   ],
   "source": [
    "print(\"Hellow\")\n",
    "#how we can break a line \n",
    "total=1+2+3+\\\n",
    "10+20\n",
    "\n",
    "print(total)\n",
    "\n",
    "#space is required after if in (if statement) as before print statement below\n",
    "\n",
    "if total==36:\n",
    " print(\"true\")   \n",
    "\n",
    " #how we can print the type of \n",
    " \n",
    " a=30\n",
    " b=\"Aqib\"\n",
    " c=\"Saqib\"\n",
    " print(type(a))\n",
    " print(type(b))  #we can print like this also type(c) but this will not show in same session if there is more print statements in same session \n",
    "\n",
    " type(c)\n",
    "\n",
    " #how to get input from user\n",
    "# age=int(input(\"Enter your age\"))\n",
    "# print(age)\n",
    "\n",
    " #but if yoy want typecasting\n",
    "\n",
    "# age1=int(input(\"ENter you age\"))\n",
    "\n",
    "\n",
    " #we can print without print statement \n",
    "\n",
    " a=20\n",
    " b=20\n",
    "\n",
    " a+b\n",
    "\n",
    " #how to get exponential\n",
    " print(a**2)\n",
    "#Assignment for tommorow\n",
    "#Make a calculator which will get age and will show in days,hours,min,seconds\n",
    "\n",
    "#How to campare values\n",
    "aa=20 \n",
    "bb=20\n",
    "\n",
    "a==b\n",
    "\n",
    "#Controll flow in between if and else there is elif we will use this in case of 3 conditions elif will execute when else will false\n",
    "\n",
    "name=\"Aqib\"\n",
    "\n",
    "if name==\"Aqib\":\n",
    " print(\"True\")\n",
    " \n",
    "else:\n",
    " print(\"False\")\n",
    "\n",
    "\n",
    "\n",
    " "
   ]
  },
  {
   "cell_type": "code",
   "execution_count": 30,
   "id": "dc98ce35",
   "metadata": {},
   "outputs": [
    {
     "data": {
      "text/plain": [
       "40"
      ]
     },
     "execution_count": 30,
     "metadata": {},
     "output_type": "execute_result"
    }
   ],
   "source": [
    "#type(age)\n",
    "a+b"
   ]
  },
  {
   "cell_type": "code",
   "execution_count": 37,
   "id": "c8823e08",
   "metadata": {},
   "outputs": [
    {
     "name": "stdout",
     "output_type": "stream",
     "text": [
      "1\n",
      "2\n",
      "3\n",
      "Loop Break\n"
     ]
    }
   ],
   "source": [
    "for i in range(1,5):\n",
    "    print(i)\n",
    "    if i==3:\n",
    "        print(\"Loop Break\")\n",
    "        break\n",
    "else:\n",
    "    print(\"For loop Completed\")    "
   ]
  },
  {
   "cell_type": "code",
   "execution_count": null,
   "id": "aad6776e",
   "metadata": {},
   "outputs": [],
   "source": []
  }
 ],
 "metadata": {
  "kernelspec": {
   "display_name": "Python 3",
   "language": "python",
   "name": "python3"
  },
  "language_info": {
   "codemirror_mode": {
    "name": "ipython",
    "version": 3
   },
   "file_extension": ".py",
   "mimetype": "text/x-python",
   "name": "python",
   "nbconvert_exporter": "python",
   "pygments_lexer": "ipython3",
   "version": "3.12.4"
  }
 },
 "nbformat": 4,
 "nbformat_minor": 5
}
