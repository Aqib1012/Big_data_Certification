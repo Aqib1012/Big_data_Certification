{
 "cells": [
  {
   "cell_type": "code",
   "execution_count": null,
   "id": "a0333413",
   "metadata": {},
   "outputs": [],
   "source": [
    "#From today we will start data science course\n",
    "\n",
    "#1. Sql Lite\n",
    "\n",
    "import sqlite3\n",
    "\n",
    "connection=sqlite3.connect(\"Aqib.db\")  #to create a database   online sqlviewer to view .dbfile\n",
    "\n",
    "\"Create table if not exists tech_ninjas(id integer, name Text not null,age integer, department text)\"\n",
    "\n",
    "\n",
    "\n",
    "\n"
   ]
  },
  {
   "cell_type": "code",
   "execution_count": null,
   "id": "ece7c1e5",
   "metadata": {},
   "outputs": [
    {
     "data": {
      "text/plain": [
       "<sqlite3.Cursor at 0x1b366ab70c0>"
      ]
     },
     "execution_count": 5,
     "metadata": {},
     "output_type": "execute_result"
    }
   ],
   "source": [
    "cursor=connection.cursor()\n",
    "#To create Table\n",
    "cursor.execute(\"Create table if not exists tech_ninjas(id integer, name Text not null,age integer, department text)\"\n",
    ")\n",
    "\n",
    "\n",
    "\n",
    "\n"
   ]
  },
  {
   "cell_type": "code",
   "execution_count": null,
   "id": "6ed7cdd1",
   "metadata": {},
   "outputs": [],
   "source": [
    "connection.commit() #must have to do this"
   ]
  },
  {
   "cell_type": "code",
   "execution_count": 11,
   "id": "149c847e",
   "metadata": {},
   "outputs": [],
   "source": [
    "cursor.execute(\"Select *from tech_ninjas\")\n",
    "connection.commit()"
   ]
  },
  {
   "cell_type": "code",
   "execution_count": 15,
   "id": "35b6db32",
   "metadata": {},
   "outputs": [],
   "source": [
    "#Insert data\n",
    "\n",
    "cursor.execute('''insert into tech_ninjas(id,name,age,department)values(2,'Aqib','23','IT')''')\n",
    "cursor.execute('''insert into tech_ninjas(id,name,age,department)values(3,'Saqib','33','IT')''')\n",
    "cursor.execute('''insert into tech_ninjas(id,name,age,department)values(4,'Kamran','34','IT')''')\n",
    "connection.commit()\n"
   ]
  },
  {
   "cell_type": "code",
   "execution_count": 16,
   "id": "136b70fe",
   "metadata": {},
   "outputs": [],
   "source": [
    "connection.commit()"
   ]
  }
 ],
 "metadata": {
  "kernelspec": {
   "display_name": "Python 3",
   "language": "python",
   "name": "python3"
  },
  "language_info": {
   "codemirror_mode": {
    "name": "ipython",
    "version": 3
   },
   "file_extension": ".py",
   "mimetype": "text/x-python",
   "name": "python",
   "nbconvert_exporter": "python",
   "pygments_lexer": "ipython3",
   "version": "3.12.4"
  }
 },
 "nbformat": 4,
 "nbformat_minor": 5
}
