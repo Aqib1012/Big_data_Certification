{
 "cells": [
  {
   "cell_type": "code",
   "execution_count": 35,
   "id": "a0333413",
   "metadata": {},
   "outputs": [],
   "source": [
    "#From today we will start data science course\n",
    "\n",
    "#1. Sql Lite\n",
    "\n",
    "import sqlite3\n",
    "\n",
    "connection=sqlite3.connect(\"Aqib.db\")  #to create a database   online sqlviewer to view .dbfile\n",
    "\n",
    "##\"Create table if not exists tech_ninjas(id integer, name Text not null,age integer, department text)\""
   ]
  },
  {
   "cell_type": "code",
   "execution_count": null,
   "id": "ece7c1e5",
   "metadata": {},
   "outputs": [
    {
     "data": {
      "text/plain": [
       "<sqlite3.Cursor at 0x1b366ab70c0>"
      ]
     },
     "execution_count": 5,
     "metadata": {},
     "output_type": "execute_result"
    }
   ],
   "source": [
    "cursor=connection.cursor()\n",
    "#To create Table\n",
    "cursor.execute(\"Create table if not exists tech_ninjas(id integer, name Text not null,age integer, department text)\"\n",
    ")"
   ]
  },
  {
   "cell_type": "code",
   "execution_count": null,
   "id": "6ed7cdd1",
   "metadata": {},
   "outputs": [],
   "source": [
    "connection.commit() #must have to do this"
   ]
  },
  {
   "cell_type": "code",
   "execution_count": null,
   "id": "4caf6893",
   "metadata": {},
   "outputs": [],
   "source": []
  },
  {
   "cell_type": "code",
   "execution_count": 36,
   "id": "149c847e",
   "metadata": {},
   "outputs": [
    {
     "ename": "ProgrammingError",
     "evalue": "Cannot operate on a closed database.",
     "output_type": "error",
     "traceback": [
      "\u001b[31m---------------------------------------------------------------------------\u001b[39m",
      "\u001b[31mProgrammingError\u001b[39m                          Traceback (most recent call last)",
      "\u001b[36mCell\u001b[39m\u001b[36m \u001b[39m\u001b[32mIn[36]\u001b[39m\u001b[32m, line 2\u001b[39m\n\u001b[32m      1\u001b[39m \u001b[38;5;66;03m#How to fetch data \u001b[39;00m\n\u001b[32m----> \u001b[39m\u001b[32m2\u001b[39m \u001b[43mcursor\u001b[49m\u001b[43m.\u001b[49m\u001b[43mexecute\u001b[49m\u001b[43m(\u001b[49m\u001b[33;43m\"\u001b[39;49m\u001b[33;43mSelect * from tech_ninjas\u001b[39;49m\u001b[33;43m\"\u001b[39;49m\u001b[43m)\u001b[49m\n\u001b[32m      3\u001b[39m rows=cursor.fetchall() \n\u001b[32m      5\u001b[39m \u001b[38;5;28;01mfor\u001b[39;00m r \u001b[38;5;129;01min\u001b[39;00m rows:\n",
      "\u001b[31mProgrammingError\u001b[39m: Cannot operate on a closed database."
     ]
    }
   ],
   "source": [
    "#How to fetch data \n",
    "cursor.execute(\"Select * from tech_ninjas\")\n",
    "rows=cursor.fetchall() \n",
    "\n",
    "for r in rows:\n",
    "    print(r)\n"
   ]
  },
  {
   "cell_type": "code",
   "execution_count": null,
   "id": "35b6db32",
   "metadata": {},
   "outputs": [],
   "source": [
    "#Insert data\n",
    "#executemany()  this is use to add a list in database/multiple records\n",
    "cursor.execute('''insert into tech_ninjas(id,name,age,department)values(2,'Aqib','23','IT')''')\n",
    "cursor.execute('''insert into tech_ninjas(id,name,age,department)values(3,'Saqib','33','IT')''')\n",
    "cursor.execute('''insert into tech_ninjas(id,name,age,department)values(4,'Kamran','34','IT')''')\n",
    "connection.commit()\n"
   ]
  },
  {
   "cell_type": "code",
   "execution_count": 22,
   "id": "136b70fe",
   "metadata": {},
   "outputs": [],
   "source": [
    "connection.commit()"
   ]
  },
  {
   "cell_type": "code",
   "execution_count": 27,
   "id": "1e75618b",
   "metadata": {},
   "outputs": [],
   "source": [
    "#To update record\n",
    "\n",
    "cursor.execute('''update tech_ninjas set age=40 where name=\"Aqib\"''')\n",
    "\n",
    "connection.commit()"
   ]
  },
  {
   "cell_type": "code",
   "execution_count": 37,
   "id": "a57968c7",
   "metadata": {},
   "outputs": [],
   "source": [
    "connection.close()"
   ]
  }
 ],
 "metadata": {
  "kernelspec": {
   "display_name": "Python 3",
   "language": "python",
   "name": "python3"
  },
  "language_info": {
   "codemirror_mode": {
    "name": "ipython",
    "version": 3
   },
   "file_extension": ".py",
   "mimetype": "text/x-python",
   "name": "python",
   "nbconvert_exporter": "python",
   "pygments_lexer": "ipython3",
   "version": "3.12.4"
  }
 },
 "nbformat": 4,
 "nbformat_minor": 5
}
