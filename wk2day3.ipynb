{
 "cells": [
  {
   "cell_type": "code",
   "execution_count": 9,
   "id": "742c4b1d",
   "metadata": {},
   "outputs": [
    {
     "data": {
      "text/plain": [
       "2.0"
      ]
     },
     "execution_count": 9,
     "metadata": {},
     "output_type": "execute_result"
    }
   ],
   "source": [
    "#Today we will study about imports libraries\n",
    "\n",
    "import random  #its a library that show a random things\n",
    "import math    #it will use for mathematics buildin functions\n",
    "\n",
    "a={\"1\":\"tea\",\"2\":\"coffee\",\"3\":\"juice\",\"4\":\"Cold Drink\"}\n",
    "\n",
    "random.randint(1,4) #THis will get 2 int values and return 1 int type\n",
    "\n",
    "math.sqrt(4)\n",
    "\n",
    "\n",
    "\n"
   ]
  },
  {
   "cell_type": "code",
   "execution_count": 19,
   "id": "19347f8c",
   "metadata": {},
   "outputs": [
    {
     "data": {
      "text/plain": [
       "30"
      ]
     },
     "execution_count": 19,
     "metadata": {},
     "output_type": "execute_result"
    }
   ],
   "source": [
    "#import form anyother folder of project\n",
    "\n",
    "from pack import firstfile as functionss\n",
    "\n",
    "functionss.addd(10,20)\n",
    "\n",
    "\n",
    "\n"
   ]
  },
  {
   "cell_type": "code",
   "execution_count": 29,
   "id": "9fed877e",
   "metadata": {},
   "outputs": [
    {
     "name": "stdout",
     "output_type": "stream",
     "text": [
      "Saqib\n"
     ]
    }
   ],
   "source": [
    "#file handling\n",
    "\n",
    "with open('ff.txt','r')as f:\n",
    "    content=f.read()\n",
    "    print(content)\n",
    "\n",
    "    "
   ]
  },
  {
   "cell_type": "code",
   "execution_count": 28,
   "id": "2ea64fd7",
   "metadata": {},
   "outputs": [
    {
     "name": "stdout",
     "output_type": "stream",
     "text": [
      "5\n"
     ]
    }
   ],
   "source": [
    "with open('ff.txt','w') as wr:\n",
    "    content=wr.write(\"Saqib\")\n",
    "\n",
    "    print(content)"
   ]
  },
  {
   "cell_type": "code",
   "execution_count": 31,
   "id": "682a4f29",
   "metadata": {},
   "outputs": [
    {
     "name": "stdout",
     "output_type": "stream",
     "text": [
      "osfolder\\osfile.txt\n"
     ]
    }
   ],
   "source": [
    "#os library os (operating system)\n",
    "\n",
    "import os\n",
    "\n",
    "dir=\"osfolder\"\n",
    "fname=\"osfile.txt\"\n",
    "fpath=os.path.join(dir,fname)\n",
    "\n",
    "print(fpath)\n",
    "\n"
   ]
  },
  {
   "cell_type": "code",
   "execution_count": 32,
   "id": "bf7027e2",
   "metadata": {},
   "outputs": [
    {
     "name": "stdout",
     "output_type": "stream",
     "text": [
      "exception\n"
     ]
    }
   ],
   "source": [
    "#Exceptions handling\n",
    "\n",
    "try:\n",
    "    a=1/0\n",
    "except:\n",
    "    print(\"exception\")    \n"
   ]
  },
  {
   "cell_type": "code",
   "execution_count": 5,
   "id": "31eebb8a",
   "metadata": {},
   "outputs": [
    {
     "name": "stdout",
     "output_type": "stream",
     "text": [
      "Function start\n",
      "Hello Aqib!\n",
      "Function end\n"
     ]
    }
   ],
   "source": [
    "def my_decorator(func):   # yahan 'func' asal function hoga\n",
    "    def wrapper():\n",
    "        print(\"Function start\")   # extra kaam\n",
    "        func()                    # asal function run ho raha hai\n",
    "        print(\"Function end\")     # extra kaam\n",
    "    return wrapper\n",
    "\n",
    "@my_decorator\n",
    "def hello():\n",
    "    print(\"Hello Aqib!\")   # asal function ka code\n",
    "\n",
    "hello()"
   ]
  },
  {
   "cell_type": "code",
   "execution_count": 6,
   "id": "4386ca76",
   "metadata": {},
   "outputs": [
    {
     "name": "stdout",
     "output_type": "stream",
     "text": [
      "10\n",
      "20\n",
      "30\n",
      "40\n"
     ]
    }
   ],
   "source": [
    "#Iterator\n",
    "\n",
    "\n",
    "numbers = [10, 20, 30, 40]\n",
    "# Step 1: list ko iterator me convert kar diya\n",
    "it = iter(numbers)   # iterator ban gaya (ye apni position yaad rakhta hai)\n",
    "# Step 2: next() se pehli value le lo\n",
    "print(next(it))  # 10  (iterator ab index 0 → 1 move kar gaya)\n",
    "# Step 3: next() dobara call karo\n",
    "print(next(it))  # 20  (iterator ab index 1 → 2 move kar gaya)\n",
    "# Step 4: phir call karo\n",
    "print(next(it))  # 30  (iterator ab index 2 → 3 move kar gaya)\n",
    "# Step 5: dobara call karo\n",
    "print(next(it))  # 40  (iterator ab index 3 → 4 move kar gaya)\n",
    "# Step 6: agar aur call karoge to StopIteration error dega\n",
    "# print(next(it))  # ❌ Error: StopIteration (kyunki list khatam ho gayi)\n"
   ]
  },
  {
   "cell_type": "code",
   "execution_count": null,
   "id": "05744de4",
   "metadata": {},
   "outputs": [
    {
     "name": "stdout",
     "output_type": "stream",
     "text": [
      "1\n",
      "2\n",
      "3\n",
      "1\n",
      "2\n",
      "3\n"
     ]
    }
   ],
   "source": [
    "#Generator\n",
    "\n",
    "def my_generator():\n",
    "    yield 1   # pehli value\n",
    "    yield 2   # doosri value\n",
    "    yield 3   # teesri value\n",
    "\n",
    "# generator call karte hi ek iterator milta hai\n",
    "gen = my_generator()\n",
    "\n",
    "print(next(gen))  # 1\n",
    "print(next(gen))  # 2\n",
    "print(next(gen))  # 3\n",
    "# print(next(gen))  # ❌ StopIteration (kyunki values khatam)\n",
    "\n",
    "#For large data\n",
    "\n",
    "def numbers_upto(n):\n",
    "    for i in range(1, n+1):\n",
    "        yield i              #this make iterator\n",
    "\n",
    "gen = numbers_upto(1_000_000)\n",
    "\n",
    "print(next(gen))  # 1\n",
    "print(next(gen))  # 2\n",
    "print(next(gen))  # 3\n",
    "\n"
   ]
  }
 ],
 "metadata": {
  "kernelspec": {
   "display_name": "Python 3",
   "language": "python",
   "name": "python3"
  },
  "language_info": {
   "codemirror_mode": {
    "name": "ipython",
    "version": 3
   },
   "file_extension": ".py",
   "mimetype": "text/x-python",
   "name": "python",
   "nbconvert_exporter": "python",
   "pygments_lexer": "ipython3",
   "version": "3.12.4"
  }
 },
 "nbformat": 4,
 "nbformat_minor": 5
}
