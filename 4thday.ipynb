{
 "cells": [
  {
   "cell_type": "markdown",
   "id": "6c748061",
   "metadata": {},
   "source": [
    "#######  List"
   ]
  },
  {
   "cell_type": "code",
   "execution_count": 1,
   "id": "90cc73a3",
   "metadata": {},
   "outputs": [
    {
     "data": {
      "text/plain": [
       "list"
      ]
     },
     "execution_count": 1,
     "metadata": {},
     "output_type": "execute_result"
    }
   ],
   "source": [
    "#GLM tool instead of Chat gpt\n",
    "\n",
    "list=[]\n",
    "type(list)"
   ]
  },
  {
   "cell_type": "code",
   "execution_count": 5,
   "id": "bc6dabeb",
   "metadata": {},
   "outputs": [
    {
     "name": "stdout",
     "output_type": "stream",
     "text": [
      "talha\n",
      "['aqib', 'Kamran', 'moeen', 88, 1012]\n"
     ]
    }
   ],
   "source": [
    "name=[\"aqib\",\"talha\",\"moeen\",88,'a']\n",
    "\n",
    "print(name[1])\n",
    "name[1]=\"Kamran\"\n",
    "name[4]=1012\n",
    "\n",
    "print(name)"
   ]
  },
  {
   "cell_type": "code",
   "execution_count": 19,
   "id": "8c3f96f8",
   "metadata": {},
   "outputs": [
    {
     "data": {
      "text/plain": [
       "['Kamran', 'moeen', 88]"
      ]
     },
     "execution_count": 19,
     "metadata": {},
     "output_type": "execute_result"
    }
   ],
   "source": [
    "# : this is use for slice in list\n",
    "#name[1:] #1: this is mean 1 value will exclude \n",
    "#name[:]  #: is say koi b exclude ni ho ga\n",
    "\n",
    "name\n",
    "name[1:4] # 1 mean 1 index par jo par wo ay or 3 mean 3 index say phly tak"
   ]
  },
  {
   "cell_type": "code",
   "execution_count": null,
   "id": "eea7cd94",
   "metadata": {},
   "outputs": [
    {
     "data": {
      "text/plain": [
       "['aqib', 'Kamran', 'moeen', 88, 1012, 'ali', 'ali', 'ali']"
      ]
     },
     "execution_count": 23,
     "metadata": {},
     "output_type": "execute_result"
    }
   ],
   "source": [
    "#append function is use to add element at end of list\n",
    "#remove function is use to delete element at end of list\n",
    "#pop function is use to remove last element and also delete to dublicate.\n",
    "#push function is use to add element at end of list\n",
    "#insert(1,20) first is index and 20 is value which have to add\n",
    "#count() to count elements mean show total\n",
    "\n",
    "name.append(\"ali\")\n",
    "name"
   ]
  },
  {
   "cell_type": "code",
   "execution_count": 1,
   "id": "22077227",
   "metadata": {},
   "outputs": [
    {
     "name": "stdout",
     "output_type": "stream",
     "text": [
      "name\n",
      "city\n",
      "Designation\n"
     ]
    }
   ],
   "source": [
    "Employee = {\n",
    "    \"name\": \"Aqib\",\n",
    "    \"city\": \"ISB\",\n",
    "    \"Designation\": \"ASI\"\n",
    "}\n",
    "\n",
    "print(list(Employee.keys())[0])   \n",
    "print(list(Employee.keys())[1])   \n",
    "print(list(Employee.keys())[2])  "
   ]
  },
  {
   "cell_type": "code",
   "execution_count": null,
   "id": "f762434b",
   "metadata": {},
   "outputs": [
    {
     "name": "stdout",
     "output_type": "stream",
     "text": [
      "(1, 2, 3, 4)\n"
     ]
    }
   ],
   "source": [
    "#  Tuples in this we can not perform modification\n",
    "# then how we can add elements in tuple \n",
    "# we can add list in tuple and then modify \n",
    "numbers=(1,2,3,4)\n",
    "\n",
    "print(numbers)"
   ]
  },
  {
   "cell_type": "code",
   "execution_count": null,
   "id": "82a54168",
   "metadata": {},
   "outputs": [
    {
     "name": "stdout",
     "output_type": "stream",
     "text": [
      "{1, 2, 3, 4}\n"
     ]
    }
   ],
   "source": [
    "#sets there can not be duplication\n",
    "\n",
    "myset={1,2,3,3,4}\n",
    "\n",
    "print(myset)"
   ]
  }
 ],
 "metadata": {
  "kernelspec": {
   "display_name": "Python 3",
   "language": "python",
   "name": "python3"
  },
  "language_info": {
   "codemirror_mode": {
    "name": "ipython",
    "version": 3
   },
   "file_extension": ".py",
   "mimetype": "text/x-python",
   "name": "python",
   "nbconvert_exporter": "python",
   "pygments_lexer": "ipython3",
   "version": "3.12.4"
  }
 },
 "nbformat": 4,
 "nbformat_minor": 5
}
