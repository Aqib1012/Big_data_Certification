{
 "cells": [
  {
   "cell_type": "code",
   "execution_count": null,
   "id": "d59b5981",
   "metadata": {},
   "outputs": [],
   "source": [
    "## Artificial Intiligence \n",
    "\n",
    "## its a Pridiction..\n",
    "## The Any TAsk Human Can do.....\n",
    "\n",
    "## Machine learning and Deep learning these are child of AI \n",
    "# Machine learning works on supervised and unsupervised dataset (Structure Data)\n",
    "## In deep learning we do this using complex patteren(Unstructure data)"
   ]
  }
 ],
 "metadata": {
  "kernelspec": {
   "display_name": "Python 3",
   "language": "python",
   "name": "python3"
  },
  "language_info": {
   "codemirror_mode": {
    "name": "ipython",
    "version": 3
   },
   "file_extension": ".py",
   "mimetype": "text/x-python",
   "name": "python",
   "nbconvert_exporter": "python",
   "pygments_lexer": "ipython3",
   "version": "3.13.7"
  }
 },
 "nbformat": 4,
 "nbformat_minor": 5
}
