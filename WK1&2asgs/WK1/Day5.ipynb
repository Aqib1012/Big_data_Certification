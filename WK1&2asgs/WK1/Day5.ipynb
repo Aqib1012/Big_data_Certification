{
 "cells": [
  {
   "cell_type": "code",
   "execution_count": null,
   "id": "69e4b415",
   "metadata": {},
   "outputs": [
    {
     "name": "stdout",
     "output_type": "stream",
     "text": [
      "['Talha', 'Fareedi', 'Aqib']\n",
      "[1, 'Hello', 3.14, True]\n",
      "apple\n",
      "cherry\n",
      "Orange\n",
      "Orange\n",
      "['banana', 'cherry', 'kiwi', 'Orange']\n",
      "['banana', 'cherry']\n"
     ]
    }
   ],
   "source": [
    "####### LIST ######\n",
    "names=[\"Talha\",\"Fareedi\",\"Aqib\"]\n",
    "print(names)\n",
    "\n",
    "mixed_list=[1,\"Hello\",3.14,True]\n",
    "print(mixed_list)\n",
    "\n",
    "fruits=[\"apple\",\"banana\",\"cherry\",\"kiwi\",\"Orange\"]\n",
    "\n",
    "print(fruits[0])\n",
    "print(fruits[2])\n",
    "print(fruits[4])\n",
    "print(fruits[-1])"
   ]
  },
  {
   "cell_type": "code",
   "execution_count": 5,
   "id": "91860753",
   "metadata": {},
   "outputs": [
    {
     "name": "stdout",
     "output_type": "stream",
     "text": [
      "['banana', 'cherry', 'kiwi', 'Orange']\n",
      "['banana', 'cherry']\n"
     ]
    }
   ],
   "source": [
    "print(fruits[1:])\n",
    "print(fruits[1:3])"
   ]
  },
  {
   "cell_type": "code",
   "execution_count": null,
   "id": "a5275782",
   "metadata": {},
   "outputs": [
    {
     "name": "stdout",
     "output_type": "stream",
     "text": [
      "['apple', 'banana', 'cherry', 'kiwi', 'Orange', 'orange']\n"
     ]
    }
   ],
   "source": [
    "#########  APPEND #######\n",
    "\n",
    "fruits.append(\"orange\") ## Add an item to the end\n",
    "print(fruits)"
   ]
  },
  {
   "cell_type": "code",
   "execution_count": 7,
   "id": "b26d286f",
   "metadata": {},
   "outputs": [
    {
     "name": "stdout",
     "output_type": "stream",
     "text": [
      "['apple', 'cherry', 'kiwi', 'Orange', 'orange']\n"
     ]
    }
   ],
   "source": [
    "######### REMOVE #######\n",
    "\n",
    "fruits.remove(\"banana\") ## Removing the first occurance of an item\n",
    "print(fruits)"
   ]
  },
  {
   "cell_type": "code",
   "execution_count": 8,
   "id": "19fb3cd7",
   "metadata": {},
   "outputs": [
    {
     "name": "stdout",
     "output_type": "stream",
     "text": [
      "orange\n",
      "['apple', 'cherry', 'kiwi', 'Orange']\n"
     ]
    }
   ],
   "source": [
    "######### POP    #######\n",
    "\n",
    "popped_fruits=fruits.pop()\n",
    "print(popped_fruits)\n",
    "print(fruits)"
   ]
  },
  {
   "cell_type": "code",
   "execution_count": 12,
   "id": "b5ab5ca7",
   "metadata": {},
   "outputs": [
    {
     "name": "stdout",
     "output_type": "stream",
     "text": [
      "4\n",
      "['apple', 'cherry', 'banana', 'banana', 'banana', 'banana', 'kiwi', 'Orange']\n"
     ]
    }
   ],
   "source": [
    "#########  COUNT & REVERSE  #######\n",
    "\n",
    "fruits.insert(2,\"banana\")\n",
    "print(fruits.count(\"banana\"))\n",
    "\n",
    "fruits.reverse() ## REverse the list\n",
    "\n",
    "print(fruits)"
   ]
  },
  {
   "cell_type": "code",
   "execution_count": null,
   "id": "9c2552b9",
   "metadata": {},
   "outputs": [
    {
     "name": "stdout",
     "output_type": "stream",
     "text": [
      "[30, 4, 5]\n",
      "[1, 20, 30, 4, 5]\n",
      "[6, 7, 8, 9, 10]\n",
      "[1, 30, 5, 7, 9]\n",
      "[10, 9, 8, 7, 6, 5, 4, 30, 20, 1]\n",
      "[1, 20, 30, 4, 5, 6, 7, 8, 9, 10]\n"
     ]
    },
    {
     "ename": "",
     "evalue": "",
     "output_type": "error",
     "traceback": [
      "\u001b[1;31mThe Kernel crashed while executing code in the current cell or a previous cell. \n",
      "\u001b[1;31mPlease review the code in the cell(s) to identify a possible cause of the failure. \n",
      "\u001b[1;31mClick <a href='https://aka.ms/vscodeJupyterKernelCrash'>here</a> for more info. \n",
      "\u001b[1;31mView Jupyter <a href='command:jupyter.viewOutput'>log</a> for further details."
     ]
    }
   ],
   "source": [
    "#########  SLICING  #######\n",
    "\n",
    "## Slicing List\n",
    "numbers = [1, 20, 30, 4, 5, 6, 7, 8, 9, 10]\n",
    "print(numbers[2:5])\n",
    "print(numbers[:5])\n",
    "print(numbers[5:])\n",
    "print(numbers[::2])\n",
    "print(numbers[::-1])\n",
    "print(numbers[::1])\n"
   ]
  },
  {
   "cell_type": "code",
   "execution_count": 14,
   "id": "7706161f",
   "metadata": {},
   "outputs": [
    {
     "name": "stdout",
     "output_type": "stream",
     "text": [
      "1\n",
      "2\n",
      "3\n",
      "4\n",
      "5\n",
      "6\n",
      "7\n",
      "8\n",
      "9\n",
      "10\n",
      "0 1\n",
      "1 2\n",
      "2 3\n",
      "3 4\n",
      "4 5\n",
      "5 6\n",
      "6 7\n",
      "7 8\n",
      "8 9\n",
      "9 10\n"
     ]
    }
   ],
   "source": [
    "#########  LOOP IN LIST  #######\n",
    "\n",
    "for number in numbers:\n",
    "  print(number)\n",
    "\n",
    "## Iterating with index\n",
    "for index,number in enumerate(numbers):\n",
    "  print(index,number)"
   ]
  },
  {
   "cell_type": "code",
   "execution_count": 17,
   "id": "8e30a23c",
   "metadata": {},
   "outputs": [
    {
     "name": "stdout",
     "output_type": "stream",
     "text": [
      "[0, 1, 4, 9, 16, 25, 36, 49, 64, 81]\n",
      "[0, 2, 4, 6, 8]\n",
      "[[1, 'a'], [1, 'b'], [1, 'c'], [1, 'd'], [2, 'a'], [2, 'b'], [2, 'c'], [2, 'd'], [3, 'a'], [3, 'b'], [3, 'c'], [3, 'd'], [4, 'a'], [4, 'b'], [4, 'c'], [4, 'd']]\n"
     ]
    }
   ],
   "source": [
    "#important for interviews\n",
    "############  LIST COMPHRENSION  – ASSIGNMNET ############\n",
    "\n",
    "sqaure=[num**2 for num in range(10)]\n",
    "print(sqaure)\n",
    "\n",
    "\n",
    "### List Comprehension with Condition\n",
    "lst=[]\n",
    "for i in range(10):\n",
    "  if i%2==0:\n",
    "    lst.append(i)\n",
    "\n",
    "print(lst)\n",
    "\n",
    "#2\n",
    "lst1=[1,2,3,4]\n",
    "lst2=['a','b','c','d']\n",
    "\n",
    "pair=[[i,j] for i in lst1 for j in lst2]\n",
    "\n",
    "print(pair)\n",
    "\n"
   ]
  },
  {
   "cell_type": "code",
   "execution_count": 20,
   "id": "96477f67",
   "metadata": {},
   "outputs": [
    {
     "name": "stdout",
     "output_type": "stream",
     "text": [
      "()\n",
      "<class 'tuple'>\n",
      "(1, 'Hello World', 3.14, True)\n",
      "3\n",
      "10\n",
      "(1, 2, 3, 4, 5, 6, 1, 'Hello World', 3.14, True)\n"
     ]
    }
   ],
   "source": [
    "############  TUPLES ############\n",
    "\n",
    "empty_tuple=()\n",
    "print(empty_tuple)\n",
    "print(type(empty_tuple))\n",
    "\n",
    "###### \n",
    "mixed_tuple=(1,\"Hello World\",3.14, True)\n",
    "print(mixed_tuple)\n",
    "\n",
    "print(numbers[2])\n",
    "print(numbers[-1])\n",
    "numbers[::-1]\n",
    "\n",
    "######\n",
    "numbers=(1,2,3,4,5,6)\n",
    "## Tuple Operations\n",
    "\n",
    "concatenation_tuple=numbers + mixed_tuple\n",
    "print(concatenation_tuple)\n",
    "\n",
    "\n",
    "\n"
   ]
  },
  {
   "cell_type": "code",
   "execution_count": 21,
   "id": "dddbcb97",
   "metadata": {},
   "outputs": [
    {
     "name": "stdout",
     "output_type": "stream",
     "text": [
      "(1, [2, 3, 5], 4)\n"
     ]
    }
   ],
   "source": [
    "####Mutable objects inside tuples can be changed:\n",
    "\n",
    "t = (1, [2, 3], 4)\n",
    "t[1].append(5)  \n",
    "print(t)   # (1, [2, 3, 5], 4)\n"
   ]
  },
  {
   "cell_type": "code",
   "execution_count": 23,
   "id": "921534f1",
   "metadata": {},
   "outputs": [
    {
     "name": "stdout",
     "output_type": "stream",
     "text": [
      "{1, 2, 3, 4, 5}\n",
      "<class 'set'>\n",
      "<class 'set'>\n",
      "{1, 2}\n"
     ]
    }
   ],
   "source": [
    "#########  SETS #########\n",
    "\n",
    "##create a set\n",
    "my_set={1,2,3,4,5}\n",
    "print(my_set)\n",
    "print(type(my_set))\n",
    "\n",
    "myset = {1, 2, 3}\n",
    "print(type(myset))   # <class 'set'>\n",
    "\n",
    "a = set([1, 2])\n",
    "print(a)   # {1, 2}\n"
   ]
  },
  {
   "cell_type": "code",
   "execution_count": null,
   "id": "a7c669d6",
   "metadata": {},
   "outputs": [
    {
     "name": "stdout",
     "output_type": "stream",
     "text": [
      "{10, 1, 2, 3}\n",
      "{10, 1, 3}\n",
      "{10, 1, 3}\n",
      "10\n",
      "{1, 3}\n",
      "set()\n",
      "{3, 4, 5}\n",
      "{3, 4, 5}\n",
      "{3, 4, 5}\n"
     ]
    }
   ],
   "source": [
    "#######  SET ASSIGNMENT  #########\n",
    "# Python Set Methods with Examples\n",
    "\n",
    "# Example set\n",
    "A = {1, 2, 3}\n",
    "B = {3, 4, 5}\n",
    "\n",
    "# Add()\n",
    "#Ek naya element set me add karta hai.\n",
    "A.add(10)\n",
    "print(A)  # {10, 1, 2, 3}\n",
    "\n",
    "# Remove()\n",
    "#Element remove karta hai. Agar element na ho to error deta hai.\n",
    "A.remove(2)\n",
    "print(A)  # {10,1,3}\n",
    "\n",
    "# Discard()\n",
    "#Element remove karta hai. Agar element na ho to error nahi deta.\n",
    "A.discard(90)  # No error even if 99 not present\n",
    "print(A)  # {10,1,3}\n",
    "\n",
    "# Pop()\n",
    "#Random element remove karke return karta hai.\n",
    "x = A.pop()\n",
    "print(x)  # koi random element milega\n",
    "print(A)  # baaki bache elements\n",
    "\n",
    "# Clear()\n",
    "#Set ke saare elements hata deta hai.\n",
    "A.clear()\n",
    "print(A)  # set()\n",
    "\n",
    "# Copy()\n",
    "#Set ki shallow copy banata hai.\n",
    "C = B.copy()\n",
    "print(C)  # {3, 4, 5}"
   ]
  },
  {
   "cell_type": "code",
   "execution_count": null,
   "id": "1883bf9c",
   "metadata": {},
   "outputs": [
    {
     "name": "stdout",
     "output_type": "stream",
     "text": [
      "{2, 3, 5, 6, 8}\n",
      "{2}\n",
      "{2}\n"
     ]
    }
   ],
   "source": [
    "# Union()\n",
    "#2 sets ko merge karke new set banata hai (duplicate remove hotay hain).\n",
    "C={2,3,5}\n",
    "d={6,8,2}\n",
    "\n",
    "print(C.union(d))  # {2,3,5,6,8}\n",
    "\n",
    "# intersection()\n",
    "#Sirf common elements return karta hai.\n",
    "print(C.intersection(d))  # {2}\n"
   ]
  },
  {
   "cell_type": "code",
   "execution_count": null,
   "id": "75a6a7e1",
   "metadata": {},
   "outputs": [
    {
     "name": "stdout",
     "output_type": "stream",
     "text": [
      "{10, 7}\n"
     ]
    }
   ],
   "source": [
    "# Difference()\n",
    "#Jo elements e me hain par f me nahi hain.\n",
    "e={3,6,8,9}\n",
    "f={10,8,7,3}\n",
    "\n",
    "print(f.difference(e))  # {10, 7}\n"
   ]
  },
  {
   "cell_type": "code",
   "execution_count": null,
   "id": "ef9559c0",
   "metadata": {},
   "outputs": [
    {
     "name": "stdout",
     "output_type": "stream",
     "text": [
      "{3, 4, 6, 8, 9, 10}\n"
     ]
    }
   ],
   "source": [
    "# Symmetric_difference()\n",
    "#Wo elements jo sirf ek set me hain (common elements exclude).\n",
    "y={10,2,3,4}\n",
    "z={8,9,2,6}\n",
    "print(y.symmetric_difference(z))  # {3,4,6,8,9,10}\n"
   ]
  },
  {
   "cell_type": "code",
   "execution_count": null,
   "id": "c39be1bf",
   "metadata": {},
   "outputs": [
    {
     "name": "stdout",
     "output_type": "stream",
     "text": [
      "True\n"
     ]
    }
   ],
   "source": [
    "#### issubset()\n",
    "#Check karta hai ki w ke saare elements x me hain ya nahi.s\n",
    "w={10,2,3,4}\n",
    "x={8,9,2,6}\n",
    "\n",
    "print({2,2}.issubset(w))  # True\n"
   ]
  },
  {
   "cell_type": "code",
   "execution_count": null,
   "id": "71403f14",
   "metadata": {},
   "outputs": [
    {
     "name": "stdout",
     "output_type": "stream",
     "text": [
      "False\n"
     ]
    }
   ],
   "source": [
    "### issuperset()\n",
    "#Check karta hai ki m me n ke saare elements hain ya nahi.\n",
    "\n",
    "m={10,2,3,4}\n",
    "n={8,9,2,6}\n",
    "print({1, 2}.issubset(n))  # False\n"
   ]
  },
  {
   "cell_type": "code",
   "execution_count": 61,
   "id": "735c65bb",
   "metadata": {},
   "outputs": [
    {
     "name": "stdout",
     "output_type": "stream",
     "text": [
      "<class 'dict'>\n",
      "{'name': 24, 'age': 32}\n",
      "{'name': 'Fawad', 'age': 32, 'grade': 'A'}\n",
      "{'name': 'Fawad', 'age': 33, 'grade': 'A'}\n",
      "{'name': 'Fawad', 'age': 33, 'grade': 'A', 'address': 'Pakistan'}\n"
     ]
    }
   ],
   "source": [
    "###########  DICTIONARIES ##########\n",
    "\n",
    "empty_dict={}\n",
    "print(type(empty_dict))\n",
    "\n",
    "# Single key is slways used\n",
    "student={\"name\":\"Talha\",\"age\":32,\"name\":24}\n",
    "print(student)\n",
    "\n",
    "## accessing Dictionary Elements\n",
    "student={\"name\":\"Fawad\",\"age\":32,\"grade\":'A'}\n",
    "print(student)\n",
    "\n",
    "student[\"age\"]=33 ##update value for the key\n",
    "print(student)\n",
    "student[\"address\"]=\"Pakistan\" ## added a new key and value\n",
    "print(student)\n",
    "\n",
    "\n"
   ]
  },
  {
   "cell_type": "code",
   "execution_count": null,
   "id": "136e1072",
   "metadata": {},
   "outputs": [
    {
     "name": "stdout",
     "output_type": "stream",
     "text": [
      "dict_keys(['name', 'age', 'grade', 'address'])\n",
      "dict_values(['Fawad', 33, 'A', 'Pakistan'])\n",
      "dict_items([('name', 'Fawad'), ('age', 33), ('grade', 'A'), ('address', 'Pakistan')])\n",
      "{'name': 'Fawad', 'age': 33, 'grade': 'A', 'address': 'Pakistan'}\n",
      "{'name': 'Fawad', 'age': 33, 'grade': 'A', 'address': 'Pakistan'}\n",
      "name\n",
      "age\n",
      "grade\n",
      "address\n",
      "Fawad\n",
      "33\n",
      "A\n",
      "Pakistan\n",
      "name:Fawad\n",
      "age:33\n",
      "grade:A\n",
      "address:Pakistan\n"
     ]
    }
   ],
   "source": [
    "## Dictionary methods\n",
    "\n",
    "keys=student.keys() ##get all the keys\n",
    "print(keys)\n",
    "values=student.values() ##get all values\n",
    "print(values)\n",
    "\n",
    "items=student.items() ##get all key value pairs\n",
    "print(items)\n",
    "\n",
    "## shallow copy\n",
    "student_copy=student\n",
    "print(student)\n",
    "print(student_copy)\n",
    "\n",
    "# Print Key\n",
    "for keys in student.keys():\n",
    "  print(keys)\n",
    "\n",
    "\n",
    "for value in student.values():\n",
    "  print(value)\n",
    "\n",
    "# key and values\n",
    "for key,value in student.items():\n",
    "  print(f\"{key}:{value}\")\n",
    "\n",
    "\n",
    "\n"
   ]
  },
  {
   "cell_type": "code",
   "execution_count": null,
   "id": "ffe446d4",
   "metadata": {},
   "outputs": [
    {
     "name": "stdout",
     "output_type": "stream",
     "text": [
      "Ali\n",
      "Not Found\n",
      "dict_keys(['name', 'age', 'city'])\n",
      "dict_values(['Ali', 20, 'Lahore'])\n",
      "dict_items([('name', 'Ali'), ('age', 20), ('city', 'Lahore')])\n",
      "{'name': 'Ali', 'age': 21, 'city': 'Lahore', 'grade': 'A'}\n"
     ]
    }
   ],
   "source": [
    "########## Python Dictionary Methods with Examples ###########\n",
    "\n",
    "# Example dictionary\n",
    "students = {\"name\": \"Ali\", \"age\": 20, \"city\": \"Lahore\"}\n",
    "\n",
    "# Get()\n",
    "#Key ka value safely return karta hai (agar key nahi ho to error nahi deta).\n",
    "print(students.get(\"name\"))   # Ali\n",
    "print(students.get(\"grade\", \"Not Found\"))  # Not Found (default value)\n",
    "\n",
    "#Keys()\n",
    "#Saari keys return karta hai.\n",
    "\n",
    "print(students.keys())  # dict_keys(['name', 'age', 'city'])\n",
    "\n",
    "#Values\n",
    "#Saare values return karta hai.\n",
    "print(students.values())  # dict_values(['Ali', 20, 'Lahore'])\n",
    "\n",
    "#items()\n",
    "#Key-value pairs ko tuple ke form me return karta hai.\n",
    "print(students.items())  \n",
    "# dict_items([('name', 'Ali'), ('age', 20), ('city', 'Lahore')])\n",
    "\n",
    "\n",
    "#Update()\n",
    "#Dusri dictionary ke values merge karta hai (agar key same ho to overwrite hoti hai).\n",
    "students.update({\"age\": 21, \"grade\": \"A\"})\n",
    "print(students)  \n",
    "# {'name': 'Ali', 'age': 21, 'city': 'Lahore', 'grade': 'A'}\n"
   ]
  },
  {
   "cell_type": "code",
   "execution_count": null,
   "id": "4ce41a84",
   "metadata": {},
   "outputs": [
    {
     "name": "stdout",
     "output_type": "stream",
     "text": [
      "Lahore\n",
      "{'name': 'Ali', 'age': 20}\n",
      "('age', 20)\n",
      "{'name': 'Ali'}\n",
      "{}\n",
      "{}\n",
      "20\n",
      "{'name': 'Ali', 'age': 20}\n",
      "20\n",
      "{'name': 'Unknown', 'age': 'Unknown', 'grade': 'Unknown'}\n"
     ]
    }
   ],
   "source": [
    "studentss = {\"name\": \"Ali\", \"age\": 20, \"city\": \"Lahore\"}\n",
    "\n",
    "#pop()\n",
    "#Ek specific key ka value remove karke return karta hai.\n",
    "removed_value = studentss.pop(\"city\")\n",
    "print(removed_value)  # Lahore\n",
    "print(studentss)  # {'name': 'Ali', 'age': 21, 'grade': 'A'}\n",
    "\n",
    "\n",
    "#Popitem()\n",
    "#Last inserted key-value pair remove karke return karta hai (Python 3.7+).\n",
    "last_item = studentss.popitem()\n",
    "print(last_item)  # ('grade', 'A')\n",
    "print(studentss)  # {'name': 'Ali', 'age': 21}\n",
    "\n",
    "\n",
    "#clear()\n",
    "#Dictionary ko completely empty kar deta hai.\n",
    "studentss.clear()\n",
    "print(studentss)  # {}\n",
    "\n",
    "#copy()\n",
    "#Dictionary ki shallow copy banata hai.\n",
    "new_studentss = studentss.copy()\n",
    "print(new_studentss)\n",
    "\n",
    "#setdefault()\n",
    "#Agar key exist nahi karti to us key ke liye default value insert kar deta hai.\n",
    "#Agar key pehle se hai to existing value return hoti hai.\n",
    "studentss = {\"name\": \"Ali\"}\n",
    "print(studentss.setdefault(\"age\", 20))  # 20 (inserted)\n",
    "print(studentss)  # {'name': 'Ali', 'age': 20}\n",
    "\n",
    "print(studentss.setdefault(\"age\", 30))  # 20 (no change)\n",
    "\n",
    "\n",
    "#Fromkeys()\n",
    "#Nayi dictionary banata hai keys ki list se aur ek default value assign karta hai.\n",
    "keys = [\"name\", \"age\", \"grade\"]\n",
    "new_dict = dict.fromkeys(keys, \"Unknown\")\n",
    "print(new_dict)  \n",
    "# {'name': 'Unknown', 'age': 'Unknown', 'grade': 'Unknown'}"
   ]
  }
 ],
 "metadata": {
  "kernelspec": {
   "display_name": "Python 3",
   "language": "python",
   "name": "python3"
  },
  "language_info": {
   "codemirror_mode": {
    "name": "ipython",
    "version": 3
   },
   "file_extension": ".py",
   "mimetype": "text/x-python",
   "name": "python",
   "nbconvert_exporter": "python",
   "pygments_lexer": "ipython3",
   "version": "3.12.4"
  }
 },
 "nbformat": 4,
 "nbformat_minor": 5
}
