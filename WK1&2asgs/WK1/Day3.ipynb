{
 "cells": [
  {
   "cell_type": "code",
   "execution_count": null,
   "id": "c56cf63e",
   "metadata": {},
   "outputs": [
    {
     "name": "stdout",
     "output_type": "stream",
     "text": [
      "32\n"
     ]
    }
   ],
   "source": [
    "######### INDENTATION #########\n",
    "age=32\n",
    "if age>30:\n",
    "  \n",
    "  print(age)"
   ]
  },
  {
   "cell_type": "code",
   "execution_count": 5,
   "id": "f300f0fc",
   "metadata": {},
   "outputs": [
    {
     "name": "stdout",
     "output_type": "stream",
     "text": [
      "43\n"
     ]
    }
   ],
   "source": [
    "######### LINE CONTINUATION ##########\n",
    "total=1+2+3+4+5+6+7+\\\n",
    "4+5+6\n",
    "\n",
    "print(total)"
   ]
  },
  {
   "cell_type": "code",
   "execution_count": 4,
   "id": "d1de5d83",
   "metadata": {},
   "outputs": [
    {
     "name": "stdout",
     "output_type": "stream",
     "text": [
      "<class 'int'>\n",
      "<class 'str'>\n"
     ]
    }
   ],
   "source": [
    "######### TYPE ##########\n",
    "\n",
    "Age= 20\n",
    "\n",
    "type(Age)\n",
    "variable=10\n",
    "print(type(variable))\n",
    "variable=\"Talha\"\n",
    "print(type(variable))\n",
    "\n"
   ]
  },
  {
   "cell_type": "code",
   "execution_count": 7,
   "id": "d0c9ae6f",
   "metadata": {},
   "outputs": [
    {
     "name": "stdout",
     "output_type": "stream",
     "text": [
      "age : 32\n",
      "Height: 6.1\n",
      "Name: Fareedi\n"
     ]
    }
   ],
   "source": [
    "######### VARIABLES ##########\n",
    "\n",
    "age=32\n",
    "height=6.1\n",
    "name=\"Fareedi\"\n",
    "is_student=True\n",
    "\n",
    "## printing the variables\n",
    "\n",
    "print(\"age :\",age)\n",
    "print(\"Height:\",height)\n",
    "print(\"Name:\",name)\n"
   ]
  },
  {
   "cell_type": "code",
   "execution_count": 9,
   "id": "3e4714e5",
   "metadata": {},
   "outputs": [
    {
     "name": "stdout",
     "output_type": "stream",
     "text": [
      "Sum: 108.0\n",
      "Difference: -68.0\n",
      "Product: 1760.0\n",
      "Quotient: 0.22727272727272727\n",
      "15\n",
      "5\n",
      "50\n",
      "2.0\n",
      "2\n",
      "0\n"
     ]
    }
   ],
   "source": [
    "######### INPUT AND OPERATIONS #########\n",
    "\n",
    "### Simple calculator\n",
    "num1 = float(input(\"Enter first number: \"))\n",
    "num2 = float(input(\"Enter second number: \"))\n",
    "\n",
    "sum = num1 + num2\n",
    "difference = num1 - num2\n",
    "product = num1 * num2\n",
    "quotient = num1 / num2\n",
    "\n",
    "print(\"Sum:\", sum)\n",
    "print(\"Difference:\", difference)\n",
    "print(\"Product:\", product)\n",
    "print(\"Quotient:\", quotient)\n",
    "\n",
    "## Arithmethic Operation\n",
    "a=10\n",
    "b = 5\n",
    "add_result=a+b #addiiton\n",
    "sub_result=a-b #substraction \n",
    "mult_result=a*b #multiplication\n",
    "div_result=a/b #division\n",
    "floor_div_result=a//b ## floor division\n",
    "modulus_result=a%b #modulus operation\n",
    "exponent_result=a**b ## Exponentiation\n",
    "\n",
    "print(add_result)\n",
    "print(sub_result)\n",
    "print(mult_result)\n",
    "print(div_result)\n",
    "print(floor_div_result)\n",
    "print(modulus_result)\n",
    "\n",
    "\n"
   ]
  },
  {
   "cell_type": "code",
   "execution_count": null,
   "id": "23d2ae70",
   "metadata": {},
   "outputs": [
    {
     "data": {
      "text/plain": [
       "False"
      ]
     },
     "execution_count": 11,
     "metadata": {},
     "output_type": "execute_result"
    }
   ],
   "source": [
    "######### COMPARISON #########\n",
    "\n",
    "a=10\n",
    "b=10\n",
    "a==b"
   ]
  },
  {
   "cell_type": "code",
   "execution_count": 12,
   "id": "a1deb352",
   "metadata": {},
   "outputs": [
    {
     "data": {
      "text/plain": [
       "False"
      ]
     },
     "execution_count": 12,
     "metadata": {},
     "output_type": "execute_result"
    }
   ],
   "source": [
    "num1=45\n",
    "num2=55\n",
    "\n",
    "num1>num2"
   ]
  },
  {
   "cell_type": "code",
   "execution_count": null,
   "id": "bc1da200",
   "metadata": {},
   "outputs": [
    {
     "name": "stdout",
     "output_type": "stream",
     "text": [
      "True\n"
     ]
    }
   ],
   "source": [
    "#########  LOGICAL #########\n",
    "\n",
    "X=True\n",
    "Y=True\n",
    "\n",
    "result =X and Y\n",
    "print(result)\n",
    "\n",
    "\n"
   ]
  },
  {
   "cell_type": "code",
   "execution_count": 23,
   "id": "15d4ccc4",
   "metadata": {},
   "outputs": [
    {
     "name": "stdout",
     "output_type": "stream",
     "text": [
      "You are a minor\n",
      "You are a teenager\n",
      "The number is positive\n",
      "The number is odd\n"
     ]
    }
   ],
   "source": [
    "#########  CONTROL FLOW  #########\n",
    "\n",
    "age=16\n",
    "\n",
    "if age>=18:\n",
    "  print(\"You are eligible for voting\")\n",
    "else:\n",
    "  print(\"You are a minor\")\n",
    "\n",
    "age=17\n",
    "\n",
    "if age<13:\n",
    "    print(\"You are a child\")\n",
    "elif age<18:\n",
    "    print(\"You are a teenager\")\n",
    "else:\n",
    "    print(\"You are an adult\")\n",
    "\n",
    "num=int(input(\"Enter the number\"))\n",
    "\n",
    "if num>0:\n",
    "  print(\"The number is positive\")\n",
    "  if num%2==0:\n",
    "    print(\"The number is even\")\n",
    "  else:\n",
    "    print(\"The number is odd\")\n",
    "\n",
    "else:\n",
    "  print(\"The number is zero or negative\")\n",
    "\n"
   ]
  },
  {
   "cell_type": "code",
   "execution_count": 25,
   "id": "190f4b56",
   "metadata": {},
   "outputs": [
    {
     "name": "stdout",
     "output_type": "stream",
     "text": [
      "Result: 45.0\n"
     ]
    }
   ],
   "source": [
    "## Assignment\n",
    "## Simple Calculator program\n",
    "# Take user input\n",
    "num1 = float(input(\"Enter first number: \"))\n",
    "num2 = float(input(\"Enter second number: \"))\n",
    "operation = input(\"Enter operation (+, -, *, /): \")\n",
    "\n",
    "# Perform the requested operation\n",
    "if operation == '+':\n",
    "  result = num1 + num2\n",
    "elif operation == '-':\n",
    "  result = num1 - num2\n",
    "elif operation == '*':\n",
    "  result = num1 * num2\n",
    "elif operation == '/':\n",
    "  if num2 != 0:\n",
    "    result = num1 / num2\n",
    "  else:\n",
    "    result = \"Error! Division by zero.\"\n",
    "else:\n",
    "  result = \"Invalid operation.\"\n",
    "\n",
    "print(\"Result:\", result)\n",
    "\n"
   ]
  },
  {
   "cell_type": "code",
   "execution_count": 27,
   "id": "7ead1794",
   "metadata": {},
   "outputs": [
    {
     "name": "stdout",
     "output_type": "stream",
     "text": [
      "0\n",
      "1\n",
      "2\n",
      "3\n",
      "4\n",
      "1\n",
      "3\n",
      "5\n",
      "7\n",
      "9\n",
      "T\n",
      "a\n",
      "l\n",
      "h\n",
      "a\n"
     ]
    }
   ],
   "source": [
    "#########  RANGE AND FOR LOOP  #########\n",
    "\n",
    "range(5)\n",
    "\n",
    "for i in range(5):\n",
    "  print(i)\n",
    "\n",
    "for i in range(1,10,2):\n",
    "  print(i)\n",
    "\n",
    "# FOR LOOP\n",
    "str=\"Talha\"\n",
    "\n",
    "for i in str:\n",
    "  print(i)\n",
    "  \n"
   ]
  },
  {
   "cell_type": "code",
   "execution_count": null,
   "id": "5c06571a",
   "metadata": {},
   "outputs": [
    {
     "name": "stdout",
     "output_type": "stream",
     "text": [
      "0\n",
      "1\n",
      "2\n",
      "3\n",
      "4\n",
      "0\n",
      "1\n",
      "2\n",
      "3\n",
      "4\n",
      "i:0 and j:0\n",
      "i:0 and j:1\n",
      "i:1 and j:0\n",
      "i:1 and j:1\n",
      "i:2 and j:0\n",
      "i:2 and j:1\n",
      "1\n",
      "3\n",
      "5\n",
      "7\n",
      "9\n",
      "55\n",
      "2\n",
      "3\n",
      "5\n",
      "7\n",
      "11\n",
      "13\n",
      "17\n",
      "19\n",
      "23\n",
      "29\n",
      "31\n",
      "37\n",
      "41\n",
      "43\n",
      "47\n",
      "53\n",
      "59\n",
      "61\n",
      "67\n",
      "71\n",
      "73\n",
      "79\n",
      "83\n",
      "89\n",
      "97\n"
     ]
    }
   ],
   "source": [
    "#########  WHILE LOOP    #########\n",
    "\n",
    "count=0\n",
    "\n",
    "while count<5:\n",
    "  print(count)\n",
    "  count=count+1\n",
    "\n",
    "#########  SOME EXAMPLES    #########  \n",
    "#1\n",
    "for i in range(10):\n",
    "  if i==5:\n",
    "    break\n",
    "  print(i)\n",
    "#2\n",
    "for i in range(3):\n",
    "    for j in range(2):\n",
    "        print(f\"i:{i} and j:{j}\")\n",
    "#3\n",
    "for i in range(10):\n",
    "    if i%2==0:\n",
    "        continue\n",
    "    print(i)\n",
    "\n",
    "#4\n",
    "n=10   \n",
    "sum=0\n",
    "for i in range(11):\n",
    "    sum=sum+i\n",
    "\n",
    "print(sum)"
   ]
  },
  {
   "cell_type": "code",
   "execution_count": 32,
   "id": "b7a06078",
   "metadata": {},
   "outputs": [
    {
     "name": "stdout",
     "output_type": "stream",
     "text": [
      "2\n",
      "3\n",
      "5\n",
      "7\n",
      "11\n",
      "13\n",
      "17\n",
      "19\n",
      "23\n",
      "29\n",
      "31\n",
      "37\n",
      "41\n",
      "43\n",
      "47\n",
      "53\n",
      "59\n",
      "61\n",
      "67\n",
      "71\n",
      "73\n",
      "79\n",
      "83\n",
      "89\n",
      "97\n"
     ]
    }
   ],
   "source": [
    "## Example- Prime numbers between 1 and 100\n",
    "\n",
    "for num in range(1,101):\n",
    "  if num>1:\n",
    "    for i in range(2,num):\n",
    "      if num%i==0:\n",
    "        break\n",
    "    else:\n",
    "      print(num)"
   ]
  },
  {
   "cell_type": "code",
   "execution_count": 33,
   "id": "87725177",
   "metadata": {},
   "outputs": [
    {
     "name": "stdout",
     "output_type": "stream",
     "text": [
      "##### Your age is in #####\n",
      "\n",
      "Month's = 276.0 \n",
      " Day's = 8395.0 \n",
      " Min's = 12088800.0 \n",
      " Sec's = 725328000.0\n",
      "Month's = 276.0\n",
      "Day's = 8395.0\n",
      "Min's = 12088800.0\n",
      "Sec's = 725328000.0\n"
     ]
    }
   ],
   "source": [
    "# DAY 3 ASG AGE CALCULATOR\n",
    "\n",
    "age=float(input(\"Enter Your age in Years\"))\n",
    "\n",
    "months=age*12\n",
    "days=age*365\n",
    "min=days*24*60\n",
    "sec=min*60\n",
    "\n",
    "print(\"##### Your age is in #####\\n\")\n",
    "\n",
    "print(\"Month's =\",months,\"\\n\",\"Day's =\", days, \"\\n\" ,\"Min's =\", min ,\"\\n\" ,\"Sec's =\" ,sec)\n",
    "#we can write this also as write below\n",
    "\n",
    "print(f\"Month's = {months}\\nDay's = {days}\\nMin's = {min}\\nSec's = {sec}\",)\n",
    "\n",
    "#f in print statement is called f-string its a way to write veriables in string using {} bralets\n"
   ]
  }
 ],
 "metadata": {
  "kernelspec": {
   "display_name": "Python 3",
   "language": "python",
   "name": "python3"
  },
  "language_info": {
   "codemirror_mode": {
    "name": "ipython",
    "version": 3
   },
   "file_extension": ".py",
   "mimetype": "text/x-python",
   "name": "python",
   "nbconvert_exporter": "python",
   "pygments_lexer": "ipython3",
   "version": "3.12.4"
  }
 },
 "nbformat": 4,
 "nbformat_minor": 5
}
