{
 "cells": [
  {
   "cell_type": "code",
   "execution_count": 2,
   "id": "36e4d6db",
   "metadata": {},
   "outputs": [
    {
     "name": "stdout",
     "output_type": "stream",
     "text": [
      "4.0\n",
      "5.0\n",
      "3.141592653589793\n"
     ]
    }
   ],
   "source": [
    "##########  IMPORTS  ########\n",
    "\n",
    "import math\n",
    "math.sqrt(16)\n",
    "\n",
    "\n",
    "from math import sqrt,pi\n",
    "print(sqrt(16))\n",
    "print(sqrt(25))\n",
    "print(pi)\n",
    "\n"
   ]
  },
  {
   "cell_type": "code",
   "execution_count": 6,
   "id": "b15a74fc",
   "metadata": {},
   "outputs": [
    {
     "name": "stdout",
     "output_type": "stream",
     "text": [
      "4.0\n",
      "3.141592653589793\n"
     ]
    }
   ],
   "source": [
    "import numpy as np\n",
    "np.array([1,2,3,4])\n",
    "\n",
    "from math import *\n",
    "print(sqrt(16))\n",
    "print(pi)"
   ]
  },
  {
   "cell_type": "code",
   "execution_count": 9,
   "id": "321eb584",
   "metadata": {},
   "outputs": [
    {
     "name": "stdout",
     "output_type": "stream",
     "text": [
      "Result: 5\n"
     ]
    }
   ],
   "source": [
    "\n",
    "from Package.math import addition\n",
    "\n",
    "result = addition(2, 3)\n",
    "print(\"Result:\", result)\n"
   ]
  },
  {
   "cell_type": "code",
   "execution_count": 10,
   "id": "ac831b8a",
   "metadata": {},
   "outputs": [
    {
     "name": "stdout",
     "output_type": "stream",
     "text": [
      "2025-09-14 00:02:19.219790\n",
      "2025-09-13 00:02:19.219790\n"
     ]
    }
   ],
   "source": [
    "## datetime\n",
    "from datetime import datetime,timedelta\n",
    "\n",
    "now=datetime.now()\n",
    "print(now)\n",
    "\n",
    "yesterday=now-timedelta(days=1)\n",
    "\n",
    "print(yesterday)\n"
   ]
  },
  {
   "cell_type": "code",
   "execution_count": 11,
   "id": "b060c795",
   "metadata": {},
   "outputs": [
    {
     "name": "stdout",
     "output_type": "stream",
     "text": [
      "{\"name\": \"Talha\", \"age\": 30}\n",
      "<class 'str'>\n",
      "{'name': 'Talha', 'age': 30}\n",
      "<class 'dict'>\n"
     ]
    }
   ],
   "source": [
    "############ JSON ############\n",
    "\n",
    "## Data Serialization\n",
    "import json\n",
    "data={'name':'Talha','age':30}\n",
    "\n",
    "json_str=json.dumps(data)\n",
    "print(json_str)\n",
    "print(type(json_str))\n",
    "\n",
    "parsed_data=json.loads(json_str)\n",
    "print(parsed_data)\n",
    "print(type(parsed_data))\n"
   ]
  },
  {
   "cell_type": "code",
   "execution_count": 16,
   "id": "12bbdf1e",
   "metadata": {},
   "outputs": [
    {
     "name": "stdout",
     "output_type": "stream",
     "text": [
      "Hello World!\n",
      "this is a new line.\n"
     ]
    }
   ],
   "source": [
    "############ FILE HANDLING  #########\n",
    "\n",
    "with open('example.txt','r') as file:\n",
    "  content=file.read()\n",
    "  print(content)\n",
    "\n",
    "\n",
    "  \n"
   ]
  },
  {
   "cell_type": "code",
   "execution_count": null,
   "id": "b0844c93",
   "metadata": {},
   "outputs": [],
   "source": [
    "with open('example.txt','w') as file:\n",
    " file.write('Hello World!\\n')\n",
    " file.write('this is a new line.')"
   ]
  },
  {
   "cell_type": "code",
   "execution_count": null,
   "id": "b322c466",
   "metadata": {},
   "outputs": [],
   "source": [
    "### Writing a list of lines to a file\n",
    "lines=['First line \\n','Second line \\n','Third line\\n']\n",
    "with open('example.txt','a') as file:\n",
    "  file.writelines(lines)\n"
   ]
  },
  {
   "cell_type": "code",
   "execution_count": 17,
   "id": "5ddb9c7a",
   "metadata": {},
   "outputs": [
    {
     "name": "stdout",
     "output_type": "stream",
     "text": [
      "Current working directory is c:\\Users\\aqibr\\Desktop\\BIG DATA COURSE\\WK1&2asgs\\wk2\n"
     ]
    }
   ],
   "source": [
    "####### DIRECTRIES #######\n",
    "\n",
    "#### Using the os module\n",
    "import os\n",
    "cwd=os.getcwd()\n",
    "print(f\"Current working directory is {cwd}\")\n",
    "\n"
   ]
  },
  {
   "cell_type": "code",
   "execution_count": 19,
   "id": "cab5326f",
   "metadata": {},
   "outputs": [
    {
     "name": "stdout",
     "output_type": "stream",
     "text": [
      "Directory 'pkg' create\n"
     ]
    }
   ],
   "source": [
    "## create a new directory\n",
    "new_directory=\"pkg\"\n",
    "os.mkdir(new_directory)\n",
    "print(f\"Directory '{new_directory}' create\")\n"
   ]
  },
  {
   "cell_type": "code",
   "execution_count": 20,
   "id": "c56afa16",
   "metadata": {},
   "outputs": [
    {
     "name": "stdout",
     "output_type": "stream",
     "text": [
      "folder\\file.txt\n"
     ]
    }
   ],
   "source": [
    "dir_name=\"folder\"\n",
    "file_name=\"file.txt\"\n",
    "full_path=os.path.join(dir_name,file_name)\n",
    "print(full_path)\n"
   ]
  },
  {
   "cell_type": "code",
   "execution_count": 21,
   "id": "ac3d884c",
   "metadata": {},
   "outputs": [
    {
     "name": "stdout",
     "output_type": "stream",
     "text": [
      "The variable has not been assigned\n"
     ]
    }
   ],
   "source": [
    "######### TRY Except ###########\n",
    "\n",
    "## Exception try ,except block\n",
    "\n",
    "try:\n",
    "  a=b\n",
    "except:\n",
    "  print(\"The variable has not been assigned\")\n",
    "\n"
   ]
  },
  {
   "cell_type": "code",
   "execution_count": 22,
   "id": "cc60b43b",
   "metadata": {},
   "outputs": [
    {
     "name": "stdout",
     "output_type": "stream",
     "text": [
      "name 'b' is not defined\n"
     ]
    }
   ],
   "source": [
    "try:\n",
    "  a=b\n",
    "except NameError as ex:\n",
    "  print(ex)\n"
   ]
  },
  {
   "cell_type": "code",
   "execution_count": 23,
   "id": "a5c080f1",
   "metadata": {},
   "outputs": [
    {
     "name": "stdout",
     "output_type": "stream",
     "text": [
      "name 'b' is not defined\n",
      "Main exception got caught here\n"
     ]
    }
   ],
   "source": [
    "try:\n",
    "  result=1/2\n",
    "  a=b\n",
    "except ZeroDivisionError as ex:\n",
    "  print(ex)\n",
    "  print(\"Please enter the denominator greater than 0\")\n",
    "except Exception as ex1:\n",
    "  print(ex1)\n",
    "  print('Main exception got caught here')\n"
   ]
  },
  {
   "cell_type": "code",
   "execution_count": 24,
   "id": "8b2225ff",
   "metadata": {},
   "outputs": [
    {
     "name": "stdout",
     "output_type": "stream",
     "text": [
      "1\n",
      "2\n",
      "3\n"
     ]
    }
   ],
   "source": [
    "######### Assignment ########\n",
    "# Iterator Example\n",
    "\n",
    "numbers = [1, 2, 3]           # Ye ek list hai\n",
    "it = iter(numbers)            # iter() se iterator banaya\n",
    "\n",
    "print(next(it))  # Output: 1\n",
    "print(next(it))  # Output: 2\n",
    "print(next(it))  # Output: 3\n",
    "\n",
    "# next(it) ek aur baar call karoge to StopIteration error aayega\n"
   ]
  },
  {
   "cell_type": "code",
   "execution_count": 25,
   "id": "a4c5e363",
   "metadata": {},
   "outputs": [
    {
     "name": "stdout",
     "output_type": "stream",
     "text": [
      "1\n",
      "2\n",
      "3\n"
     ]
    }
   ],
   "source": [
    "# Generator Example\n",
    "\n",
    "def my_generator():\n",
    "    for i in range(1, 4):\n",
    "        yield i  # yield ek value return karta hai aur function ka state save karta hai\n",
    "\n",
    "gen = my_generator()\n",
    "\n",
    "print(next(gen))  # Output: 1\n",
    "print(next(gen))  # Output: 2\n",
    "print(next(gen))  # Output: 3\n"
   ]
  },
  {
   "cell_type": "code",
   "execution_count": 26,
   "id": "9fe992be",
   "metadata": {},
   "outputs": [
    {
     "name": "stdout",
     "output_type": "stream",
     "text": [
      "✨ Function start ho raha hai...\n",
      "Hello World!\n",
      "✅ Function end ho gaya.\n"
     ]
    }
   ],
   "source": [
    "# Decorator Example\n",
    "\n",
    "def my_decorator(func):\n",
    "    def wrapper():\n",
    "        print(\"✨ Function start ho raha hai...\")\n",
    "        func()\n",
    "        print(\"✅ Function end ho gaya.\")\n",
    "    return wrapper\n",
    "\n",
    "@my_decorator\n",
    "def say_hello():\n",
    "    print(\"Hello World!\")\n",
    "\n",
    "say_hello()\n"
   ]
  }
 ],
 "metadata": {
  "kernelspec": {
   "display_name": "Python 3",
   "language": "python",
   "name": "python3"
  },
  "language_info": {
   "codemirror_mode": {
    "name": "ipython",
    "version": 3
   },
   "file_extension": ".py",
   "mimetype": "text/x-python",
   "name": "python",
   "nbconvert_exporter": "python",
   "pygments_lexer": "ipython3",
   "version": "3.12.4"
  }
 },
 "nbformat": 4,
 "nbformat_minor": 5
}
