{
 "cells": [
  {
   "cell_type": "code",
   "execution_count": 5,
   "id": "987f6e9f",
   "metadata": {},
   "outputs": [
    {
     "name": "stdout",
     "output_type": "stream",
     "text": [
      "6\n",
      "Hello Talha Welcome To the paradise\n",
      "Hello Talha Welcome To the paradise\n",
      "1\n",
      "2\n",
      "3\n",
      "4\n",
      "5\n",
      "6\n",
      "7\n",
      "8\n",
      "Talha\n",
      " Positional arument :1\n",
      " Positional arument :2\n",
      " Positional arument :3\n",
      " Positional arument :4\n",
      " Positional arument :Talha\n",
      "name:Talha\n",
      "age:32\n",
      "country:India\n"
     ]
    }
   ],
   "source": [
    "########## FUNCTIONS ########\n",
    "\n",
    "def add(a,b):\n",
    "  return a+b\n",
    "\n",
    "result=add(2,4)\n",
    "print(result)\n",
    "\n",
    "\n",
    "## Default Parameters\n",
    "\n",
    "def greet(name):\n",
    "  print(f\"Hello {name} Welcome To the paradise\")\n",
    "\n",
    "greet(\"Talha\")\n",
    "\n",
    "#2\n",
    "def greet(name=\"Guest\"):\n",
    "  print(f\"Hello {name} Welcome To the paradise\")\n",
    "\n",
    "greet(\"Talha\")\n",
    "\n",
    "#3\n",
    "def print_numbers(*Talha):\n",
    "  for number in Talha:\n",
    "    print(number)\n",
    "\n",
    "\n",
    "print_numbers(1,2,3,4,5,6,7,8,\"Talha\")\n",
    "\n",
    "#4\n",
    "\n",
    "def print_details(*args,**kwargs):\n",
    "  for val in args:\n",
    "    print(f\" Positional arument :{val}\")\n",
    "  \n",
    "  for key,value in kwargs.items():\n",
    "    print(f\"{key}:{value}\")\n",
    "\n",
    "print_details(1,2,3,4,\"Talha\",name=\"Talha\",age=\"32\",country=\"India\")\n",
    "\n",
    "\n",
    "\n",
    "\n",
    "\n",
    "\n",
    "\n"
   ]
  },
  {
   "cell_type": "code",
   "execution_count": 8,
   "id": "6526a38b",
   "metadata": {},
   "outputs": [
    {
     "name": "stdout",
     "output_type": "stream",
     "text": [
      "77.0\n",
      "25.0\n"
     ]
    }
   ],
   "source": [
    "### Return statements\n",
    "def multiply(a,b):\n",
    "    return a*b\n",
    "\n",
    "multiply(2,3)\n",
    "\n",
    "def convert_temperature(temp,unit):\n",
    "  \"\"\"This function converts temperature between Celsius and Fahrenheit\"\"\"\n",
    "  if unit=='C':\n",
    "    return temp * 9/5 + 32 ## Celsius To Fahrenheit\n",
    "  elif unit==\"F\":\n",
    "    return (temp-32)*5/9 ## Fahrenheit to celsius\n",
    "  else:\n",
    "    return None\n",
    "\n",
    "print(convert_temperature(25,'C'))\n",
    "print(convert_temperature(77,'F'))\n",
    "\n"
   ]
  },
  {
   "cell_type": "code",
   "execution_count": 10,
   "id": "a52bd1bd",
   "metadata": {},
   "outputs": [
    {
     "name": "stdout",
     "output_type": "stream",
     "text": [
      "5.8999999999999995\n",
      " Positional arument :1\n",
      " Positional arument :2\n",
      " Positional arument :3\n",
      " Positional arument :4\n",
      " Positional arument :Talha\n",
      "name:Talha\n",
      "age:32\n",
      "country:India\n"
     ]
    }
   ],
   "source": [
    "def calculate_total_cost(cart):\n",
    "  total_cost=0\n",
    "  for item in cart:\n",
    "    total_cost+=item['price']* item['quantity']\n",
    "  return total_cost\n",
    "\n",
    "## Example cart data\n",
    "cart=[\n",
    "  {'name':'Apple','price':0.5,'quantity':4},\n",
    "  {'name':'Banana','price':0.3,'quantity':6},\n",
    "  {'name':'Orange','price':0.7,'quantity':3}\n",
    "]\n",
    "## calling the function\n",
    "total_cost=calculate_total_cost(cart)\n",
    "print(total_cost)\n",
    "\n",
    "\n",
    "def print_details(*args,**kwargs):\n",
    "  for val in args:\n",
    "    print(f\" Positional arument :{val}\")\n",
    "  \n",
    "  for key,value in kwargs.items():\n",
    "    print(f\"{key}:{value}\")\n",
    "\n",
    "print_details(1,2,3,4,\"Talha\",name=\"Talha\",age=\"32\",country=\"India\")\n",
    "\n",
    "\n",
    "\n",
    "\n",
    "\n",
    "\n"
   ]
  },
  {
   "cell_type": "code",
   "execution_count": null,
   "id": "2623a2f8",
   "metadata": {},
   "outputs": [
    {
     "name": "stdout",
     "output_type": "stream",
     "text": [
      "11\n"
     ]
    },
    {
     "data": {
      "text/plain": [
       "[1, 4, 9, 16, 25, 36]"
      ]
     },
     "execution_count": 13,
     "metadata": {},
     "output_type": "execute_result"
    }
   ],
   "source": [
    "###### lambda functions ##############\n",
    "\n",
    "addition=lambda a,b:a+b\n",
    "type(addition)\n",
    "print(addition(5,6))\n",
    "\n",
    "\n",
    "#2\n",
    "even1=lambda num:num%2==0\n",
    "even1(12)\n",
    "\n",
    "\n",
    "addition1=lambda x,y,z:x+y+z\n",
    "addition1(12,13,14)"
   ]
  },
  {
   "cell_type": "code",
   "execution_count": null,
   "id": "606380c2",
   "metadata": {},
   "outputs": [
    {
     "data": {
      "text/plain": [
       "[1, 4, 9, 16, 25, 36, 49, 64]"
      ]
     },
     "execution_count": 15,
     "metadata": {},
     "output_type": "execute_result"
    }
   ],
   "source": [
    "######### MAP #############\n",
    "\n",
    "#1\n",
    "\n",
    "## map()- applies a function to all items in a list\n",
    "numbers=[1,2,3,4,5,6]\n",
    "def square(number):\n",
    "  return number**2\n",
    "\n",
    "square(2)\n",
    "\n",
    "list(map(lambda x:x**2,numbers))"
   ]
  },
  {
   "cell_type": "code",
   "execution_count": null,
   "id": "f9db109d",
   "metadata": {},
   "outputs": [
    {
     "data": {
      "text/plain": [
       "[1, 4, 9, 16, 25, 36, 49, 64]"
      ]
     },
     "execution_count": 16,
     "metadata": {},
     "output_type": "execute_result"
    }
   ],
   "source": [
    "#2\n",
    "\n",
    "def square(x):\n",
    "  return x*x\n",
    "\n",
    "square(10)\n",
    "\n",
    "numbers=[1,2,3,4,5,6,7,8]\n",
    "\n",
    "list(map(square,numbers))"
   ]
  },
  {
   "cell_type": "code",
   "execution_count": 21,
   "id": "b8689582",
   "metadata": {},
   "outputs": [
    {
     "name": "stdout",
     "output_type": "stream",
     "text": [
      "Sum of even numbers: 2550\n",
      "43 is a Prime number\n",
      "[2, 4, 6]\n",
      "Average Grade: 85.0\n",
      "Reversed String: nohtyP\n"
     ]
    }
   ],
   "source": [
    "############### ASSIGNMENT ################\n",
    "\n",
    "#1  Sum of All Even Numbers from 1 to 100\n",
    "\n",
    "total = 0\n",
    "for num in range(1, 101):\n",
    "    if num % 2 == 0:\n",
    "        total += num\n",
    "print(\"Sum of even numbers:\", total)\n",
    "\n",
    "\n",
    "#2  Check if a Number is Prime\n",
    "\n",
    "num = int(input(\"Enter a number: \"))\n",
    "is_prime = True\n",
    "\n",
    "if num <= 1:\n",
    "    is_prime = False\n",
    "else:\n",
    "    for i in range(2, int(num ** 0.5) + 1):  # check till sqrt(num)\n",
    "        if num % i == 0:\n",
    "            is_prime = False\n",
    "            break\n",
    "\n",
    "if is_prime:\n",
    "    print(f\"{num} is a Prime number\")\n",
    "else:\n",
    "    print(f\"{num} is NOT a Prime number\")\n",
    "\n",
    "\n",
    "#3  Function to Return Only Even Numbers from a List\n",
    "\n",
    "def get_even_numbers(numbers):\n",
    "    even_list = []\n",
    "    for n in numbers:\n",
    "        if n % 2 == 0:\n",
    "            even_list.append(n)\n",
    "    return even_list\n",
    "\n",
    "print(get_even_numbers([1, 2, 3, 4, 5, 6]))\n",
    "\n",
    "\n",
    "#4 Dictionary of Student Grades + Average\n",
    "\n",
    "grades = {\"Math\": 85, \"English\": 78, \"Science\": 92}\n",
    "average = sum(grades.values()) / len(grades)\n",
    "print(\"Average Grade:\", average)\n",
    "\n",
    "\n",
    "#5 Reverse a String Without Built-in Reverse\n",
    "\n",
    "text = \"Python\"\n",
    "reversed_text = \"\"\n",
    "for char in text:\n",
    "    reversed_text = char + reversed_text  # add from front\n",
    "print(\"Reversed String:\", reversed_text)\n",
    "\n",
    "\n",
    "\n",
    "\n"
   ]
  },
  {
   "cell_type": "code",
   "execution_count": 26,
   "id": "90248468",
   "metadata": {},
   "outputs": [
    {
     "name": "stdout",
     "output_type": "stream",
     "text": [
      "Factorial: 120\n",
      "Number of vowels: 3\n",
      "Shortest Name: Ali\n",
      "Longest Name: Hassan\n",
      "True\n",
      "False\n",
      "Fibonacci numbers: [0, 1, 1, 2, 3, 5, 8, 13, 21, 34]\n"
     ]
    }
   ],
   "source": [
    "#6 Factorial of a Number Using Loop\n",
    "\n",
    "def factorial(n):\n",
    "    result = 1\n",
    "    for i in range(1, n + 1):\n",
    "        result *= i\n",
    "    return result\n",
    "\n",
    "print(\"Factorial:\", factorial(5))\n",
    "\n",
    "#7 Count Vowels in a String\n",
    "\n",
    "text = \"Hello World\"\n",
    "vowels = \"aeiouAEIOU\"\n",
    "count = 0\n",
    "for char in text:\n",
    "    if char in vowels:\n",
    "        count += 1\n",
    "print(\"Number of vowels:\", count)\n",
    "\n",
    "\n",
    "#8 Find Shortest and Longest Names in a List\n",
    "\n",
    "names = [\"Ali\", \"Bilal\", \"Usman\", \"Aqib\", \"Hassan\"]\n",
    "shortest = min(names, key=len)\n",
    "longest = max(names, key=len)\n",
    "print(\"Shortest Name:\", shortest)\n",
    "print(\"Longest Name:\", longest)\n",
    "\n",
    "\n",
    "#9 Check if a Word is a Palindrome\n",
    "\n",
    "def is_palindrome(word):\n",
    "    return word == word[::-1]\n",
    "\n",
    "print(is_palindrome(\"madam\"))  # True\n",
    "print(is_palindrome(\"hello\"))  # False\n",
    "\n",
    "\n",
    "#10 Generate Fibonacci Numbers up to a Limit\n",
    "\n",
    "limit = 50\n",
    "a, b = 0, 1\n",
    "fib_list = []\n",
    "\n",
    "while a <= limit:\n",
    "    fib_list.append(a)\n",
    "    a, b = b, a + b\n",
    "\n",
    "print(\"Fibonacci numbers:\", fib_list)\n",
    "\n",
    "\n"
   ]
  },
  {
   "cell_type": "code",
   "execution_count": 30,
   "id": "00c4f2f0",
   "metadata": {},
   "outputs": [
    {
     "name": "stdout",
     "output_type": "stream",
     "text": [
      "Intersection: [3, 4]\n",
      "I love Java. Java is awesome.\n",
      "Max: 99\n",
      "Min: 3\n",
      "Sorted List: ['Apple', 'Banana', 'Mango', 'Orange']\n",
      "[1, 2, 3, 4, 5]\n"
     ]
    }
   ],
   "source": [
    "#11 Find Intersection of Two Lists\n",
    "\n",
    "list1 = [1, 2, 3, 4]\n",
    "list2 = [3, 4, 5, 6]\n",
    "intersection = [x for x in list1 if x in list2]\n",
    "print(\"Intersection:\", intersection)\n",
    "\n",
    "#12 Replace All Occurrences of a Word\n",
    "\n",
    "text = \"I love Python. Python is awesome.\"\n",
    "new_text = text.replace(\"Python\", \"Java\")\n",
    "print(new_text)\n",
    "\n",
    "#13 Find Max and Min in a Tuple\n",
    "\n",
    "numbers = (10, 25, 3, 99, 45)\n",
    "print(\"Max:\", max(numbers))\n",
    "print(\"Min:\", min(numbers))\n",
    "\n",
    "#14 Sort a List of Strings\n",
    "\n",
    "fruits = [\"Mango\", \"Apple\", \"Banana\", \"Orange\"]\n",
    "fruits.sort()\n",
    "print(\"Sorted List:\", fruits)\n",
    "\n",
    "#15 Remove Duplicates from a List\n",
    "\n",
    "def unique_list(numbers):\n",
    "    return list(set(numbers))\n",
    "\n",
    "print(unique_list([1, 2, 2, 3, 4, 4, 5]))\n",
    "\n"
   ]
  }
 ],
 "metadata": {
  "kernelspec": {
   "display_name": "Python 3",
   "language": "python",
   "name": "python3"
  },
  "language_info": {
   "codemirror_mode": {
    "name": "ipython",
    "version": 3
   },
   "file_extension": ".py",
   "mimetype": "text/x-python",
   "name": "python",
   "nbconvert_exporter": "python",
   "pygments_lexer": "ipython3",
   "version": "3.12.4"
  }
 },
 "nbformat": 4,
 "nbformat_minor": 5
}
