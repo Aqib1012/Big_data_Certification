{
 "cells": [
  {
   "cell_type": "code",
   "execution_count": null,
   "id": "b72fb9a1",
   "metadata": {},
   "outputs": [
    {
     "name": "stdout",
     "output_type": "stream",
     "text": [
      "<class '__main__.Car'>\n"
     ]
    }
   ],
   "source": [
    "################# OOP #################\n",
    "\n",
    "class Car:\n",
    "  pass\n",
    "\n",
    "audi=Car()\n",
    "bmw=Car()\n",
    "\n",
    "print(type(audi))\n"
   ]
  },
  {
   "cell_type": "code",
   "execution_count": null,
   "id": "35f7ccf3",
   "metadata": {},
   "outputs": [
    {
     "name": "stdout",
     "output_type": "stream",
     "text": [
      "<__main__.Dog object at 0x0000017485F3FEC0>\n",
      "Buddy\n",
      "3\n"
     ]
    }
   ],
   "source": [
    "### Instance Variable and Methods\n",
    "class Dog:\n",
    "  ## constructor\n",
    "  def __init__(self,name,age):\n",
    "    self.name=name\n",
    "    self.age=age\n",
    "\n",
    "## create objects\n",
    "dog1=Dog(\"Buddy\",3)\n",
    "print(dog1)\n",
    "print(dog1.name)\n",
    "print(dog1.age)\n",
    "  "
   ]
  },
  {
   "cell_type": "code",
   "execution_count": null,
   "id": "5db8e3eb",
   "metadata": {},
   "outputs": [
    {
     "name": "stdout",
     "output_type": "stream",
     "text": [
      "Buddy says woof\n",
      "Lucy says woof\n"
     ]
    }
   ],
   "source": [
    "## Define a class with instance methods\n",
    "class Dog:\n",
    "  def __init__(self,name,age):\n",
    "    self.name=name\n",
    "    self.age=age\n",
    "  \n",
    "  def bark(self):\n",
    "    print(f\"{self.name} says woof\")\n",
    "\n",
    "\n",
    "dog1=Dog(\"Buddy\",3)\n",
    "dog1.bark()\n",
    "dog2=Dog(\"Lucy\",4)\n",
    "dog2.bark()"
   ]
  },
  {
   "cell_type": "code",
   "execution_count": 7,
   "id": "e20ed4dc",
   "metadata": {},
   "outputs": [
    {
     "name": "stdout",
     "output_type": "stream",
     "text": [
      "Buddy say woof\n",
      "Owner:PersonA\n"
     ]
    }
   ],
   "source": [
    "########### 4 PILLARS ##########\n",
    "\n",
    "### Multiple Inheritance\n",
    "## When a class inherits from more than one base class.\n",
    "## Base class 1\n",
    "class Animal:\n",
    "  def __init__(self,name):\n",
    "    self.name=name\n",
    "\n",
    "  def speak(self):\n",
    "    print(\"Subclass must implement this method\")\n",
    "\n",
    "## BAse class 2\n",
    "class Pet:\n",
    "  def __init__(self, owner):\n",
    "    self.owner = owner\n",
    "\n",
    "\n",
    "##Derived class\n",
    "  class Dog(Animal,Pet):\n",
    "   def __init__(self,name,owner):\n",
    "    Animal.__init__(self,name)\n",
    "    Pet.__init__(self,owner)\n",
    "   def speak(self):\n",
    "    return f\"{self.name} say woof\"\n",
    " \n",
    "## Create an object\n",
    "  dog=Dog(\"Buddy\",\"PersonA\")\n",
    "  print(dog.speak())\n",
    "  print(f\"Owner:{dog.owner}\")\n"
   ]
  },
  {
   "cell_type": "code",
   "execution_count": 16,
   "id": "080dd88b",
   "metadata": {},
   "outputs": [
    {
     "name": "stdout",
     "output_type": "stream",
     "text": [
      "Woof\n",
      "Meow\n",
      "Most birds can fly\n",
      "Penguins cannot fly\n"
     ]
    }
   ],
   "source": [
    "######## POLYMORPHISM #########\n",
    "\n",
    "#Example 1: Polymorphism with different classes\n",
    "\n",
    "class Dog:\n",
    "    def sound(self):\n",
    "        return \"Woof\"\n",
    "\n",
    "class Cat:\n",
    "    def sound(self):\n",
    "        return \"Meow\"\n",
    "\n",
    "# Same method name 'sound' behaves differently (Polymorphism)\n",
    "for animal in [Dog(), Cat()]:\n",
    "    print(animal.sound())\n",
    "\n",
    "\n",
    "# Example 2: Polymorphism with Inheritance (Method Overriding)\n",
    "\n",
    "class Bird:\n",
    "    def fly(self):\n",
    "        print(\"Most birds can fly\")\n",
    "\n",
    "class Penguin(Bird):\n",
    "    def fly(self):   # Overriding method\n",
    "        print(\"Penguins cannot fly\")\n",
    "\n",
    "# Same method name 'fly' gives different results\n",
    "bird1 = Bird()\n",
    "bird2 = Penguin()\n",
    "\n",
    "bird1.fly()   # Output: Most birds can fly\n",
    "bird2.fly()   # Output: Penguins cannot fly\n",
    "\n",
    "\n"
   ]
  },
  {
   "cell_type": "code",
   "execution_count": null,
   "id": "ee2d0e6b",
   "metadata": {},
   "outputs": [
    {
     "name": "stdout",
     "output_type": "stream",
     "text": [
      "I am public\n",
      "I am protected\n"
     ]
    }
   ],
   "source": [
    "######## ENCAPSULATION ###########\n",
    "\n",
    "#1. Public (accessible anywhere)\n",
    "\n",
    "class PublicExample:\n",
    "    def __init__(self):\n",
    "        self.data = \"I am public\"\n",
    "\n",
    "obj = PublicExample()\n",
    "print(obj.data)   # ✅ Accessible directly\n",
    "\n",
    "\n",
    "# 2. Protected (single underscore _var)\n",
    "\n",
    "class ProtectedExample:\n",
    "    def __init__(self):\n",
    "        self._data = \"I am protected\"\n",
    "\n",
    "obj = ProtectedExample()\n",
    "print(obj._data)   # ⚠️ Can access, but convention says \"internal use only\""
   ]
  },
  {
   "cell_type": "code",
   "execution_count": 21,
   "id": "e870fc0c",
   "metadata": {},
   "outputs": [],
   "source": [
    "#3. Private (double underscore __var)\n",
    "\n",
    "class PrivateExample:\n",
    "    def __init__(self):\n",
    "        self.__data = \"I am private\"\n",
    "\n",
    "obj = PrivateExample()\n",
    "# print(obj.__data)   # ❌ Error: not accessibleprint(obj._PrivateExample__data)  # ✅ Name mangling access (not recommended)\n"
   ]
  },
  {
   "cell_type": "code",
   "execution_count": 22,
   "id": "85a886fe",
   "metadata": {},
   "outputs": [
    {
     "name": "stdout",
     "output_type": "stream",
     "text": [
      "Car starts with a key\n",
      "Bike starts with a button\n"
     ]
    }
   ],
   "source": [
    "########### ABSTRACTION ###########\n",
    "\n",
    "from abc import ABC, abstractmethod\n",
    "\n",
    "class Vehicle(ABC):          # Abstract class\n",
    "    @abstractmethod\n",
    "    def start(self):\n",
    "        pass\n",
    "\n",
    "class Car(Vehicle):          # Concrete class\n",
    "    def start(self):\n",
    "        print(\"Car starts with a key\")\n",
    "\n",
    "class Bike(Vehicle):         # Concrete class\n",
    "    def start(self):\n",
    "        print(\"Bike starts with a button\")\n",
    "\n",
    "# Usage\n",
    "v1 = Car()\n",
    "v2 = Bike()\n",
    "\n",
    "v1.start()   # Output: Car starts with a key\n",
    "v2.start()   # Output: Bike starts with a button\n",
    "\n"
   ]
  },
  {
   "cell_type": "code",
   "execution_count": null,
   "id": "86f8982a",
   "metadata": {},
   "outputs": [
    {
     "name": "stdout",
     "output_type": "stream",
     "text": [
      "My name is Aqib\n"
     ]
    }
   ],
   "source": [
    "############### Assignment ##########\n",
    "\n",
    "############## Magic method #################\n",
    "#Magic methods wo special methods hote hain jo double underscores __ se start aur end hote hain.\n",
    "#Python inhe automatically call karta hai jab koi specific action perform hota hai.\n",
    "\n",
    "###########  Example: __init__ & __str__######\n",
    "\n",
    "class Person:\n",
    "    def __init__(self, name):   # Magic method (constructor)\n",
    "        self.name = name\n",
    "\n",
    "    def __str__(self):          # Magic method (string representation)\n",
    "        return f\"My name is {self.name}\"\n",
    "\n",
    "p = Person(\"Aqib\")\n",
    "print(p)  # Automatically __str__() call hoga\n",
    "\n"
   ]
  },
  {
   "cell_type": "code",
   "execution_count": 24,
   "id": "bbb297b5",
   "metadata": {},
   "outputs": [
    {
     "name": "stdout",
     "output_type": "stream",
     "text": [
      "15\n",
      "35\n"
     ]
    }
   ],
   "source": [
    "########### Method Overloading ###########\n",
    "\n",
    "\n",
    "#Method Overloading ka matlab hota hai ek hi naam ke multiple functions jo alag arguments handle karte hain.\n",
    "#Python me direct method overloading nahi hoti, lekin hum default arguments use karke achieve kar sakte hain.\n",
    "\n",
    "\n",
    "class Calculator:\n",
    "    def add(self, a, b=0, c=0):  # Default arguments\n",
    "        return a + b + c\n",
    "\n",
    "calc = Calculator()\n",
    "print(calc.add(5, 10))      # Output: 15\n",
    "print(calc.add(5, 10, 20))  # Output: 35\n"
   ]
  },
  {
   "cell_type": "code",
   "execution_count": 25,
   "id": "9fca7b8e",
   "metadata": {},
   "outputs": [
    {
     "name": "stdout",
     "output_type": "stream",
     "text": [
      "(6, 8)\n"
     ]
    }
   ],
   "source": [
    "########### Operator Overloading ###########\n",
    "\n",
    "# Operator overloading ka matlab hota hai ke + , - , * , >, < jaise operators ka apni class ke liye custom behavior define karna.\n",
    "#Ye magic methods ke zariye hota hai.\n",
    "\n",
    "class Point:\n",
    "    def __init__(self, x, y):\n",
    "        self.x = x\n",
    "        self.y = y\n",
    "\n",
    "    def __add__(self, other):  # Overloading + operator\n",
    "        return Point(self.x + other.x, self.y + other.y)\n",
    "\n",
    "    def __str__(self):\n",
    "        return f\"({self.x}, {self.y})\"\n",
    "\n",
    "p1 = Point(2, 3)\n",
    "p2 = Point(4, 5)\n",
    "p3 = p1 + p2   # Actually calls p1.__add__(p2)\n",
    "print(p3)      # Output: (6, 8)\n"
   ]
  }
 ],
 "metadata": {
  "kernelspec": {
   "display_name": "Python 3",
   "language": "python",
   "name": "python3"
  },
  "language_info": {
   "codemirror_mode": {
    "name": "ipython",
    "version": 3
   },
   "file_extension": ".py",
   "mimetype": "text/x-python",
   "name": "python",
   "nbconvert_exporter": "python",
   "pygments_lexer": "ipython3",
   "version": "3.12.4"
  }
 },
 "nbformat": 4,
 "nbformat_minor": 5
}
