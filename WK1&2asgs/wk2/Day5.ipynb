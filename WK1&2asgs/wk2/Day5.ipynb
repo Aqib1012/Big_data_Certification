{
 "cells": [
  {
   "cell_type": "code",
   "execution_count": 1,
   "id": "d1a1c8f7",
   "metadata": {},
   "outputs": [
    {
     "data": {
      "text/plain": [
       "<sqlite3.Connection at 0x274bcce2020>"
      ]
     },
     "execution_count": 1,
     "metadata": {},
     "output_type": "execute_result"
    }
   ],
   "source": [
    "################ SQL LITE #############\n",
    "\n",
    "import sqlite3\n",
    "\n",
    "## Connect to an SQLite database\n",
    "connection=sqlite3.connect('example.db')\n",
    "connection\n"
   ]
  },
  {
   "cell_type": "code",
   "execution_count": 10,
   "id": "0579a7b9",
   "metadata": {},
   "outputs": [],
   "source": [
    "cursor=connection.cursor()\n",
    "\n",
    "## Create a Table\n",
    "cursor.execute('''\n",
    "Create Table If Not Exists employees(\n",
    "  id Integer Primary Key,\n",
    "  name Text Not Null,\n",
    "  age Integer,\n",
    "  department text\n",
    "  )\n",
    "''')\n",
    "\n",
    "## Commit the changes\n",
    "connection.commit()\n",
    "\n"
   ]
  },
  {
   "cell_type": "code",
   "execution_count": null,
   "id": "d42799bb",
   "metadata": {},
   "outputs": [
    {
     "data": {
      "text/plain": [
       "[]"
      ]
     },
     "execution_count": 15,
     "metadata": {},
     "output_type": "execute_result"
    }
   ],
   "source": [
    "## Insert the data in sqlite table\n",
    "cursor.execute('''\n",
    "Insert Into employees(name,age,department)\n",
    "        values('Krish',32,'Data Scientist')\n",
    "\n",
    "''')\n",
    "\n",
    "cursor.execute('''\n",
    "INSERT INTO employees (name, age, department)\n",
    "VALUES ('Bob', 25, 'Engineering')\n",
    "''')\n",
    "\n",
    "cursor.execute('''\n",
    "INSERT INTO employees (name, age, department)\n",
    "VALUES ('Charlie', 35, 'Finance')\n",
    "''')\n",
    "\n",
    "## commi the changes\n",
    "connection.commit()"
   ]
  },
  {
   "cell_type": "code",
   "execution_count": 16,
   "id": "8d54fc3d",
   "metadata": {},
   "outputs": [
    {
     "name": "stdout",
     "output_type": "stream",
     "text": [
      "(1, 'Krish', 32, 'Data Scientist')\n",
      "(2, 'Bob', 25, 'Engineering')\n",
      "(3, 'Charlie', 35, 'Finance')\n",
      "(4, 'Krish', 32, 'Data Scientist')\n",
      "(5, 'Bob', 25, 'Engineering')\n",
      "(6, 'Charlie', 35, 'Finance')\n",
      "(7, 'Krish', 32, 'Data Scientist')\n",
      "(8, 'Bob', 25, 'Engineering')\n",
      "(9, 'Charlie', 35, 'Finance')\n",
      "(10, 'Krish', 32, 'Data Scientist')\n",
      "(11, 'Bob', 25, 'Engineering')\n",
      "(12, 'Charlie', 35, 'Finance')\n",
      "(13, 'Krish', 32, 'Data Scientist')\n",
      "(14, 'Bob', 25, 'Engineering')\n",
      "(15, 'Charlie', 35, 'Finance')\n",
      "(16, 'Krish', 32, 'Data Scientist')\n",
      "(17, 'Bob', 25, 'Engineering')\n",
      "(18, 'Charlie', 35, 'Finance')\n"
     ]
    }
   ],
   "source": [
    "## Query the data from the table\n",
    "cursor.execute('Select * from employees')\n",
    "rows=cursor.fetchall()\n",
    "\n",
    "## print the queried data\n",
    "\n",
    "for row in rows:\n",
    "  print(row)\n"
   ]
  },
  {
   "cell_type": "code",
   "execution_count": 17,
   "id": "f4c1a84b",
   "metadata": {},
   "outputs": [],
   "source": [
    "## Update the data in the table\n",
    "cursor.execute('''\n",
    "UPDATE employees\n",
    "Set age=34\n",
    "where name=\"Farhan\"\n",
    "''')\n",
    "\n",
    "connection.commit()\n"
   ]
  },
  {
   "cell_type": "code",
   "execution_count": 18,
   "id": "5a597d2c",
   "metadata": {},
   "outputs": [
    {
     "name": "stdout",
     "output_type": "stream",
     "text": [
      "(1, 'Krish', 32, 'Data Scientist')\n",
      "(2, 'Bob', 25, 'Engineering')\n",
      "(3, 'Charlie', 35, 'Finance')\n",
      "(4, 'Krish', 32, 'Data Scientist')\n",
      "(5, 'Bob', 25, 'Engineering')\n",
      "(6, 'Charlie', 35, 'Finance')\n",
      "(7, 'Krish', 32, 'Data Scientist')\n",
      "(8, 'Bob', 25, 'Engineering')\n",
      "(9, 'Charlie', 35, 'Finance')\n",
      "(10, 'Krish', 32, 'Data Scientist')\n",
      "(11, 'Bob', 25, 'Engineering')\n",
      "(12, 'Charlie', 35, 'Finance')\n",
      "(13, 'Krish', 32, 'Data Scientist')\n",
      "(14, 'Bob', 25, 'Engineering')\n",
      "(15, 'Charlie', 35, 'Finance')\n",
      "(16, 'Krish', 32, 'Data Scientist')\n",
      "(17, 'Bob', 25, 'Engineering')\n",
      "(18, 'Charlie', 35, 'Finance')\n"
     ]
    }
   ],
   "source": [
    "## Query the data from the table\n",
    "cursor.execute('Select * from employees')\n",
    "rows=cursor.fetchall()\n",
    "\n",
    "## print the queried data\n",
    "\n",
    "for row in rows:\n",
    "  print(row)\n"
   ]
  },
  {
   "cell_type": "code",
   "execution_count": 19,
   "id": "27bb922c",
   "metadata": {},
   "outputs": [
    {
     "name": "stdout",
     "output_type": "stream",
     "text": [
      "(1, 'Krish', 32, 'Data Scientist')\n",
      "(2, 'Bob', 25, 'Engineering')\n",
      "(3, 'Charlie', 35, 'Finance')\n",
      "(4, 'Krish', 32, 'Data Scientist')\n",
      "(5, 'Bob', 25, 'Engineering')\n",
      "(6, 'Charlie', 35, 'Finance')\n",
      "(7, 'Krish', 32, 'Data Scientist')\n",
      "(8, 'Bob', 25, 'Engineering')\n",
      "(9, 'Charlie', 35, 'Finance')\n",
      "(10, 'Krish', 32, 'Data Scientist')\n",
      "(11, 'Bob', 25, 'Engineering')\n",
      "(12, 'Charlie', 35, 'Finance')\n",
      "(13, 'Krish', 32, 'Data Scientist')\n",
      "(14, 'Bob', 25, 'Engineering')\n",
      "(15, 'Charlie', 35, 'Finance')\n",
      "(16, 'Krish', 32, 'Data Scientist')\n",
      "(17, 'Bob', 25, 'Engineering')\n",
      "(18, 'Charlie', 35, 'Finance')\n"
     ]
    }
   ],
   "source": [
    "## Query the data from the table\n",
    "cursor.execute('Select * from employees')\n",
    "rows=cursor.fetchall()\n",
    "\n",
    "## print the queried data\n",
    "\n",
    "for row in rows:\n",
    "  print(row)\n"
   ]
  },
  {
   "cell_type": "code",
   "execution_count": 20,
   "id": "a6b67009",
   "metadata": {},
   "outputs": [],
   "source": [
    "## Working Wwith Sales Data\n",
    "# Connect to an SQLite database\n",
    "connection = sqlite3.connect('sales_data.db')\n",
    "cursor = connection.cursor()\n",
    "\n",
    "# Create a table for sales data\n",
    "cursor.execute('''\n",
    "CREATE TABLE IF NOT EXISTS sales (\n",
    "  id INTEGER PRIMARY KEY,\n",
    "  date TEXT NOT NULL,\n",
    "  product TEXT NOT NULL,\n",
    "  sales INTEGER,\n",
    "  region TEXT\n",
    ")\n",
    "''')\n",
    "\n",
    "# Insert data into the sales table\n",
    "sales_data = [\n",
    "  ('2023-01-01', 'Product1', 100, 'North'),\n",
    "  ('2023-01-02', 'Product2', 200, 'South'),\n",
    "  ('2023-01-03', 'Product1', 150, 'East'),\n",
    "  ('2023-01-04', 'Product3', 250, 'West'),\n",
    "  ('2023-01-05', 'Product2', 300, 'North')\n",
    "]\n",
    "\n",
    "cursor.executemany('''\n",
    "Insert into sales(date,product,sales,region)\n",
    "          values(?,?,?,?)\n",
    "''',sales_data)\n",
    "\n",
    "connection.commit()\n",
    "\n"
   ]
  },
  {
   "cell_type": "code",
   "execution_count": 21,
   "id": "ad3a9f60",
   "metadata": {},
   "outputs": [
    {
     "name": "stdout",
     "output_type": "stream",
     "text": [
      "(1, '2023-01-01', 'Product1', 100, 'North')\n",
      "(2, '2023-01-02', 'Product2', 200, 'South')\n",
      "(3, '2023-01-03', 'Product1', 150, 'East')\n",
      "(4, '2023-01-04', 'Product3', 250, 'West')\n",
      "(5, '2023-01-05', 'Product2', 300, 'North')\n"
     ]
    }
   ],
   "source": [
    "# Query data from the sales table\n",
    "cursor.execute('SELECT * FROM sales')\n",
    "rows = cursor.fetchall()\n",
    "\n",
    "# Print the queried data\n",
    "for row in rows:\n",
    "  print(row)\n"
   ]
  },
  {
   "cell_type": "code",
   "execution_count": 24,
   "id": "847caebb",
   "metadata": {},
   "outputs": [],
   "source": [
    "## CLOSE THE CONNECTION\n",
    "connection.close()\n"
   ]
  },
  {
   "cell_type": "code",
   "execution_count": 39,
   "id": "f035129a",
   "metadata": {},
   "outputs": [],
   "source": [
    "############## Assignment ##############\n",
    "\n",
    "# Database Connection (Ye students.db file create karega)\n",
    "\n",
    "conn = sqlite3.connect(\"students.db\")\n",
    "cursor = conn.cursor()\n"
   ]
  },
  {
   "cell_type": "code",
   "execution_count": 29,
   "id": "defe2d44",
   "metadata": {},
   "outputs": [
    {
     "data": {
      "text/plain": [
       "<sqlite3.Cursor at 0x274bce86b40>"
      ]
     },
     "execution_count": 29,
     "metadata": {},
     "output_type": "execute_result"
    }
   ],
   "source": [
    "# Tables Create\n",
    "cursor.execute(\"\"\"\n",
    "CREATE TABLE IF NOT EXISTS Students (\n",
    "    StudentID INTEGER PRIMARY KEY,\n",
    "    Name TEXT,\n",
    "    Age INTEGER,\n",
    "    City TEXT\n",
    ");\n",
    "\"\"\")\n",
    "\n",
    "cursor.execute(\"\"\"\n",
    "CREATE TABLE IF NOT EXISTS Courses (\n",
    "    CourseID INTEGER PRIMARY KEY,\n",
    "    CourseName TEXT,\n",
    "    Teacher TEXT\n",
    ");\n",
    "\"\"\")\n",
    "\n",
    "cursor.execute(\"\"\"\n",
    "CREATE TABLE IF NOT EXISTS Enrollments (\n",
    "    EnrollmentID INTEGER PRIMARY KEY,\n",
    "    StudentID INTEGER,\n",
    "    CourseID INTEGER,\n",
    "    FOREIGN KEY (StudentID) REFERENCES Students(StudentID),\n",
    "    FOREIGN KEY (CourseID) REFERENCES Courses(CourseID)\n",
    ");\n",
    "\"\"\")"
   ]
  },
  {
   "cell_type": "code",
   "execution_count": 30,
   "id": "b7a09ea6",
   "metadata": {},
   "outputs": [],
   "source": [
    "# Sample Data Insert\n",
    "cursor.executemany(\"INSERT OR IGNORE INTO Students VALUES (?, ?, ?, ?)\", [\n",
    "    (1, 'Ali', 20, 'Lahore'),\n",
    "    (2, 'Ayesha', 22, 'Karachi'),\n",
    "    (3, 'Bilal', 19, 'Lahore'),\n",
    "    (4, 'Sara', 21, 'Islamabad')\n",
    "])\n",
    "\n",
    "cursor.executemany(\"INSERT OR IGNORE INTO Courses VALUES (?, ?, ?)\", [\n",
    "    (101, 'Maths', 'Sir Hamza'),\n",
    "    (102, 'English', 'Miss Sana'),\n",
    "    (103, 'Computer Science', 'Sir Asad')\n",
    "])\n",
    "\n",
    "cursor.executemany(\"INSERT OR IGNORE INTO Enrollments VALUES (?, ?, ?)\", [\n",
    "    (1, 1, 101),\n",
    "    (2, 1, 103),\n",
    "    (3, 2, 102),\n",
    "    (4, 3, 101),\n",
    "    (5, 4, 103)\n",
    "])\n",
    "\n",
    "conn.commit()"
   ]
  },
  {
   "cell_type": "code",
   "execution_count": null,
   "id": "c65102e4",
   "metadata": {},
   "outputs": [
    {
     "name": "stdout",
     "output_type": "stream",
     "text": [
      "\n",
      " All Students:\n",
      "(1, 'Ali', 20, 'Lahore')\n",
      "(2, 'Ayesha', 22, 'Karachi')\n",
      "(3, 'Bilal', 19, 'Lahore')\n",
      "(4, 'Sara', 21, 'Islamabad')\n"
     ]
    }
   ],
   "source": [
    "############### Queries #################\n",
    "\n",
    "# 1. Select all students\n",
    "print(\"\\n All Students:\")\n",
    "for row in cursor.execute(\"SELECT * FROM Students\"):\n",
    "    print(row)"
   ]
  },
  {
   "cell_type": "code",
   "execution_count": 33,
   "id": "155ca041",
   "metadata": {},
   "outputs": [
    {
     "name": "stdout",
     "output_type": "stream",
     "text": [
      "\n",
      " Students from Lahore:\n",
      "('Ali',)\n",
      "('Bilal',)\n"
     ]
    }
   ],
   "source": [
    "# 2. Students from Lahore\n",
    "print(\"\\n Students from Lahore:\")\n",
    "for row in cursor.execute(\"SELECT Name FROM Students WHERE City='Lahore'\"):\n",
    "    print(row)\n"
   ]
  },
  {
   "cell_type": "code",
   "execution_count": 34,
   "id": "15a19f71",
   "metadata": {},
   "outputs": [
    {
     "name": "stdout",
     "output_type": "stream",
     "text": [
      "\n",
      " Students Ordered by Age (DESC):\n",
      "(2, 'Ayesha', 22, 'Karachi')\n",
      "(4, 'Sara', 21, 'Islamabad')\n",
      "(1, 'Ali', 20, 'Lahore')\n",
      "(3, 'Bilal', 19, 'Lahore')\n"
     ]
    }
   ],
   "source": [
    "# 3. Students ordered by Age DESC\n",
    "print(\"\\n Students Ordered by Age (DESC):\")\n",
    "for row in cursor.execute(\"SELECT * FROM Students ORDER BY Age DESC\"):\n",
    "    print(row)"
   ]
  },
  {
   "cell_type": "code",
   "execution_count": 35,
   "id": "84c82c6a",
   "metadata": {},
   "outputs": [
    {
     "name": "stdout",
     "output_type": "stream",
     "text": [
      "\n",
      " Students with their Courses:\n",
      "('Ali', 'Maths')\n",
      "('Ali', 'Computer Science')\n",
      "('Ayesha', 'English')\n",
      "('Bilal', 'Maths')\n",
      "('Sara', 'Computer Science')\n"
     ]
    }
   ],
   "source": [
    "# 4. Students with Courses (JOIN)\n",
    "print(\"\\n Students with their Courses:\")\n",
    "for row in cursor.execute(\"\"\"\n",
    "SELECT s.Name, c.CourseName\n",
    "FROM Students s\n",
    "JOIN Enrollments e ON s.StudentID = e.StudentID\n",
    "JOIN Courses c ON e.CourseID = c.CourseID\n",
    "\"\"\"):\n",
    "    print(row)"
   ]
  },
  {
   "cell_type": "code",
   "execution_count": 40,
   "id": "21a26628",
   "metadata": {},
   "outputs": [
    {
     "name": "stdout",
     "output_type": "stream",
     "text": [
      "\n",
      " Total Enrollments: 5\n"
     ]
    }
   ],
   "source": [
    "# 5. Count total enrollments\n",
    "cursor.execute(\"SELECT COUNT(*) FROM Enrollments\")\n",
    "total = cursor.fetchone()[0]\n",
    "print(f\"\\n Total Enrollments: {total}\")"
   ]
  },
  {
   "cell_type": "code",
   "execution_count": 37,
   "id": "d19baca3",
   "metadata": {},
   "outputs": [],
   "source": [
    "conn.close()"
   ]
  }
 ],
 "metadata": {
  "kernelspec": {
   "display_name": "Python 3",
   "language": "python",
   "name": "python3"
  },
  "language_info": {
   "codemirror_mode": {
    "name": "ipython",
    "version": 3
   },
   "file_extension": ".py",
   "mimetype": "text/x-python",
   "name": "python",
   "nbconvert_exporter": "python",
   "pygments_lexer": "ipython3",
   "version": "3.12.4"
  }
 },
 "nbformat": 4,
 "nbformat_minor": 5
}
