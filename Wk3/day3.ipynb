{
 "cells": [
  {
   "cell_type": "code",
   "execution_count": 5,
   "id": "32fc0870",
   "metadata": {},
   "outputs": [
    {
     "name": "stdout",
     "output_type": "stream",
     "text": [
      "[10 20 30]\n",
      "<class 'numpy.ndarray'>\n",
      "20.0\n"
     ]
    }
   ],
   "source": [
    "#########Numpy \n",
    "\n",
    "import numpy as np\n",
    "\n",
    "arr = np.array([10, 20, 30])\n",
    "print(arr)          # [10 20 30]\n",
    "print(type(arr))\n",
    "print(np.mean(arr)) # Average nikal dega\n",
    "\n",
    "\n",
    "\n"
   ]
  },
  {
   "cell_type": "code",
   "execution_count": null,
   "id": "642d1e5b",
   "metadata": {},
   "outputs": [
    {
     "name": "stdout",
     "output_type": "stream",
     "text": [
      "int64\n"
     ]
    }
   ],
   "source": [
    "#print(arr[1])\n",
    "arr.ndim ## this will tell of dimention\n",
    "print(arr.dtype) "
   ]
  },
  {
   "cell_type": "code",
   "execution_count": 17,
   "id": "509374f8",
   "metadata": {},
   "outputs": [
    {
     "data": {
      "text/plain": [
       "2"
      ]
     },
     "execution_count": 17,
     "metadata": {},
     "output_type": "execute_result"
    }
   ],
   "source": [
    "#2 dimention Array\n",
    "\n",
    "da=np.array([[1,2,3],[4,5,6]])\n",
    "\n",
    "da.ndim"
   ]
  },
  {
   "cell_type": "code",
   "execution_count": 19,
   "id": "a56010ab",
   "metadata": {},
   "outputs": [
    {
     "data": {
      "text/plain": [
       "3"
      ]
     },
     "execution_count": 19,
     "metadata": {},
     "output_type": "execute_result"
    }
   ],
   "source": [
    "tda=np.array([[[1,2,3],[4,5,6],[7,8,9]]])\n",
    "tda.ndim"
   ]
  },
  {
   "cell_type": "code",
   "execution_count": 21,
   "id": "9bfb63a6",
   "metadata": {},
   "outputs": [
    {
     "data": {
      "text/plain": [
       "array([[0., 0., 0., 0.],\n",
       "       [0., 0., 0., 0.],\n",
       "       [0., 0., 0., 0.]])"
      ]
     },
     "execution_count": 21,
     "metadata": {},
     "output_type": "execute_result"
    }
   ],
   "source": [
    "np.zeros((3,4)) #this will use to make metrix of 0"
   ]
  },
  {
   "cell_type": "code",
   "execution_count": null,
   "id": "ae4ff512",
   "metadata": {},
   "outputs": [
    {
     "data": {
      "text/plain": [
       "array([[1., 1.],\n",
       "       [1., 1.],\n",
       "       [1., 1.]])"
      ]
     },
     "execution_count": 22,
     "metadata": {},
     "output_type": "execute_result"
    }
   ],
   "source": [
    "np.ones((3,2)) #to make of 1 metrix"
   ]
  },
  {
   "cell_type": "code",
   "execution_count": 23,
   "id": "ce12783e",
   "metadata": {},
   "outputs": [],
   "source": [
    "a1=np.array([1,2,3])\n",
    "a2=np.array([4,5,6])"
   ]
  },
  {
   "cell_type": "code",
   "execution_count": null,
   "id": "f57ba672",
   "metadata": {},
   "outputs": [
    {
     "data": {
      "text/plain": [
       "array([5, 7, 9])"
      ]
     },
     "execution_count": 24,
     "metadata": {},
     "output_type": "execute_result"
    }
   ],
   "source": [
    "a1+a2  ## this can't be perform using list thats why we will use array"
   ]
  },
  {
   "cell_type": "code",
   "execution_count": null,
   "id": "683e8425",
   "metadata": {},
   "outputs": [],
   "source": [
    "a3=np.array([[1,2],[4,5]])\n",
    "a4=np.array([[4,5],[8,2]])\n"
   ]
  },
  {
   "cell_type": "code",
   "execution_count": 36,
   "id": "b15002b8",
   "metadata": {},
   "outputs": [
    {
     "name": "stdout",
     "output_type": "stream",
     "text": [
      "[[1 2 3]\n",
      " [4 5 6]]\n"
     ]
    }
   ],
   "source": [
    "print(a3)\n",
    "\n",
    "#np.dot(a3,a4)\n",
    "#np.linalg.inv()\n",
    "#np.mean()\n",
    "#np.std() standard diviation\n",
    "\n"
   ]
  },
  {
   "cell_type": "code",
   "execution_count": 37,
   "id": "921ad953",
   "metadata": {},
   "outputs": [
    {
     "name": "stdout",
     "output_type": "stream",
     "text": [
      "[[ 4 10 18]\n",
      " [32 10 24]]\n"
     ]
    }
   ],
   "source": [
    "b=a3*a4\n",
    "\n",
    "print(b)"
   ]
  }
 ],
 "metadata": {
  "kernelspec": {
   "display_name": "Python 3",
   "language": "python",
   "name": "python3"
  },
  "language_info": {
   "codemirror_mode": {
    "name": "ipython",
    "version": 3
   },
   "file_extension": ".py",
   "mimetype": "text/x-python",
   "name": "python",
   "nbconvert_exporter": "python",
   "pygments_lexer": "ipython3",
   "version": "3.13.7"
  }
 },
 "nbformat": 4,
 "nbformat_minor": 5
}
