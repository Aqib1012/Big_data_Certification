{
 "cells": [
  {
   "cell_type": "code",
   "execution_count": 15,
   "id": "b8056044",
   "metadata": {},
   "outputs": [],
   "source": [
    "import re"
   ]
  },
  {
   "cell_type": "code",
   "execution_count": 9,
   "id": "8b984c92",
   "metadata": {},
   "outputs": [
    {
     "name": "stdout",
     "output_type": "stream",
     "text": [
      "<re.Match object; span=(0, 17), match='The rain in Spain'>\n"
     ]
    }
   ],
   "source": [
    "\n",
    "txt = \"The rain in Spain\"\n",
    "x = re.search(\"^The.*Spain$\", txt)\n",
    "print(x)\n"
   ]
  },
  {
   "cell_type": "code",
   "execution_count": 4,
   "id": "59125bb4",
   "metadata": {},
   "outputs": [
    {
     "name": "stdout",
     "output_type": "stream",
     "text": [
      "['ai', 'ai']\n"
     ]
    }
   ],
   "source": [
    "import re\n",
    "txt = \"The rain in Spain\"\n",
    "x = re.findall(\"ai\", txt)\n",
    "print(x)\n"
   ]
  },
  {
   "cell_type": "code",
   "execution_count": 20,
   "id": "9e09c54a",
   "metadata": {},
   "outputs": [
    {
     "name": "stdout",
     "output_type": "stream",
     "text": [
      "['The', 'rain', 'in', 'Spain']\n"
     ]
    }
   ],
   "source": [
    "#The split() function returns a list where the string has been split at each match:\n",
    "txt = \"The rain in Spain\"\n",
    "x = re.split(r\"\\s\",txt)\n",
    "print(x) "
   ]
  },
  {
   "cell_type": "code",
   "execution_count": 3,
   "id": "3093f39f",
   "metadata": {},
   "outputs": [
    {
     "name": "stdout",
     "output_type": "stream",
     "text": [
      "The9rain9in9Spain\n"
     ]
    }
   ],
   "source": [
    "#The sub() function replaces the matches with the text of your choice:\n",
    "\n",
    "txt = \"The rain in Spain\"\n",
    "x = re.sub(r\"\\s\", \"9\", txt)\n",
    "print(x)\n",
    "\n"
   ]
  },
  {
   "cell_type": "code",
   "execution_count": 4,
   "id": "1ff5d61a",
   "metadata": {},
   "outputs": [
    {
     "name": "stdout",
     "output_type": "stream",
     "text": [
      "['The', 'rain', 'in', 'islamabad']\n"
     ]
    }
   ],
   "source": [
    "################## Assigmnet #################\n",
    "\n",
    "#1\n",
    "txt = \"The rain in islamabad\"\n",
    "x = re.split(r\"\\s\", txt)           #####\\s → whitespace par split.\n",
    "print(x)"
   ]
  },
  {
   "cell_type": "code",
   "execution_count": null,
   "id": "162515ee",
   "metadata": {},
   "outputs": [
    {
     "name": "stdout",
     "output_type": "stream",
     "text": [
      "['sun', 'sets', 'Spain', 'shines', 'silently']\n"
     ]
    }
   ],
   "source": [
    "#2\n",
    "txt = \"The sun sets in Spain and shines silently\"\n",
    "x = re.findall(r\"\\bs\\w+\", txt, flags=re.IGNORECASE)\n",
    "print(x)                     ###### \\b → word boundary,\n",
    "                             ###### s\\w+ → words starting with \"s\" (or \"S\" because IGNORECASE)."
   ]
  },
  {
   "cell_type": "code",
   "execution_count": null,
   "id": "e508c0da",
   "metadata": {},
   "outputs": [
    {
     "name": "stdout",
     "output_type": "stream",
     "text": [
      "['123', '15', '7']\n"
     ]
    }
   ],
   "source": [
    "#3\n",
    "txt = \"Order 123 was shipped on 15th, expected in 7 days\"\n",
    "x = re.findall(r\"\\d+\", txt)            #######\\d+ → match one or more digits.\n",
    "print(x)"
   ]
  },
  {
   "cell_type": "code",
   "execution_count": 25,
   "id": "388d18c7",
   "metadata": {},
   "outputs": [
    {
     "name": "stdout",
     "output_type": "stream",
     "text": [
      "R*g*l*r *xpr*ss**ns *r* P*w*rf*l\n"
     ]
    }
   ],
   "source": [
    "#4\n",
    "txt = \"Regular Expressions are Powerful\"\n",
    "x = re.sub(r\"[aeiouAEIOU]\", \"*\", txt)      #####[aeiouAEIOU] → match vowels and replace.\n",
    "print(x)      "
   ]
  },
  {
   "cell_type": "code",
   "execution_count": 28,
   "id": "cbd32ede",
   "metadata": {},
   "outputs": [
    {
     "name": "stdout",
     "output_type": "stream",
     "text": [
      "Only letters\n"
     ]
    }
   ],
   "source": [
    "#5\n",
    "txt = \"HelloWorld\"\n",
    "x = re.fullmatch(r\"[a-zA-Z]+\", txt)           #####match only letters (no numbers or symbols).\n",
    "print(\"Only letters\" if x else \"Contains other characters\")"
   ]
  },
  {
   "cell_type": "code",
   "execution_count": null,
   "id": "e39af50b",
   "metadata": {},
   "outputs": [
    {
     "name": "stdout",
     "output_type": "stream",
     "text": [
      "C:ewfolder\\data.txt\n"
     ]
    }
   ],
   "source": [
    "path = r\"C:ewfolder\\data.txt\"  ###R is lia likhty hain k \\ ko wo like \\n consider krta is trha \\\\ dalni pary gi is lia r key to to raw string bn jay gi\n",
    "print(path)"
   ]
  },
  {
   "cell_type": "code",
   "execution_count": 5,
   "id": "e565287e",
   "metadata": {},
   "outputs": [],
   "source": [
    "import pandas as pd"
   ]
  },
  {
   "cell_type": "code",
   "execution_count": 6,
   "id": "7b7fbd86",
   "metadata": {},
   "outputs": [],
   "source": [
    "readfile=pd.read_csv(\"titanic_data.csv\")"
   ]
  },
  {
   "cell_type": "code",
   "execution_count": 25,
   "id": "56925376",
   "metadata": {},
   "outputs": [
    {
     "name": "stdout",
     "output_type": "stream",
     "text": [
      "<class 'pandas.core.frame.DataFrame'>\n",
      "RangeIndex: 891 entries, 0 to 890\n",
      "Data columns (total 13 columns):\n",
      " #   Column       Non-Null Count  Dtype  \n",
      "---  ------       --------------  -----  \n",
      " 0   PassengerId  891 non-null    int64  \n",
      " 1   Survived     891 non-null    int64  \n",
      " 2   Pclass       891 non-null    int64  \n",
      " 3   Name         891 non-null    object \n",
      " 4   Sex          891 non-null    object \n",
      " 5   Age          714 non-null    float64\n",
      " 6   SibSp        891 non-null    int64  \n",
      " 7   Parch        891 non-null    int64  \n",
      " 8   Ticket       891 non-null    object \n",
      " 9   Fare         891 non-null    float64\n",
      " 10  Cabin        204 non-null    object \n",
      " 11  Embarked     889 non-null    object \n",
      " 12  title        891 non-null    object \n",
      "dtypes: float64(2), int64(5), object(6)\n",
      "memory usage: 90.6+ KB\n",
      "None\n"
     ]
    }
   ],
   "source": [
    "print(readfile.info())  #### This will show all info about data"
   ]
  },
  {
   "cell_type": "code",
   "execution_count": 9,
   "id": "8d8c954c",
   "metadata": {},
   "outputs": [
    {
     "data": {
      "text/plain": [
       "Survived\n",
       "0    549\n",
       "1    342\n",
       "Name: count, dtype: int64"
      ]
     },
     "execution_count": 9,
     "metadata": {},
     "output_type": "execute_result"
    }
   ],
   "source": [
    "######################## Feature Engineering ################\n",
    "\n",
    "# .values_count()\n",
    "readfile['Survived'].value_counts()"
   ]
  },
  {
   "cell_type": "code",
   "execution_count": 24,
   "id": "8925191d",
   "metadata": {},
   "outputs": [],
   "source": [
    "#To add new column with values \n",
    "import re\n",
    "readfile['title']=readfile['Name'].apply(lambda y:re.search(r'([A-Z][a-z]+)\\.', y).group(1)) ##.apply function()"
   ]
  },
  {
   "cell_type": "code",
   "execution_count": 31,
   "id": "a66e5280",
   "metadata": {},
   "outputs": [
    {
     "name": "stdout",
     "output_type": "stream",
     "text": [
      "0              Mr\n",
      "1             Mrs\n",
      "2            Miss\n",
      "3             Mrs\n",
      "4              Mr\n",
      "          ...    \n",
      "886    Rare Title\n",
      "887          Miss\n",
      "888          Miss\n",
      "889            Mr\n",
      "890            Mr\n",
      "Name: title, Length: 891, dtype: object\n"
     ]
    },
    {
     "data": {
      "text/plain": [
       "title\n",
       "Mr            517\n",
       "Miss          182\n",
       "Mrs           125\n",
       "Master         40\n",
       "Rare Title     27\n",
       "Name: count, dtype: int64"
      ]
     },
     "execution_count": 31,
     "metadata": {},
     "output_type": "execute_result"
    }
   ],
   "source": [
    "print(readfile['title'])\n",
    "\n",
    "readfile['title'].value_counts()"
   ]
  },
  {
   "cell_type": "code",
   "execution_count": null,
   "id": "6630597e",
   "metadata": {},
   "outputs": [],
   "source": [
    "import seaborn as sns\n"
   ]
  },
  {
   "cell_type": "code",
   "execution_count": null,
   "id": "ff6daf18",
   "metadata": {},
   "outputs": [
    {
     "data": {
      "text/plain": [
       "<Axes: xlabel='title', ylabel='count'>"
      ]
     },
     "execution_count": 27,
     "metadata": {},
     "output_type": "execute_result"
    },
    {
     "data": {
      "image/png": "[encoded data removed]",
      "text/plain": [
       "<Figure size 640x480 with 1 Axes>"
      ]
     },
     "metadata": {},
     "output_type": "display_data"
    }
   ],
   "source": [
    "sns.countplot(x='title',hue=\"Survived\",data=readfile)"
   ]
  },
  {
   "cell_type": "code",
   "execution_count": null,
   "id": "ca25e834",
   "metadata": {},
   "outputs": [],
   "source": [
    "##  To change column  name\n",
    "\n",
    "readfile.loc[(~readfile['title'].isin(['Mr','Mrs','Miss','Master'])),'title'] = 'Rare Title'\n"
   ]
  },
  {
   "cell_type": "code",
   "execution_count": 30,
   "id": "ea3bef40",
   "metadata": {},
   "outputs": [
    {
     "name": "stdout",
     "output_type": "stream",
     "text": [
      "     PassengerId  Survived  Pclass  \\\n",
      "0              1         0       3   \n",
      "1              2         1       1   \n",
      "2              3         1       3   \n",
      "3              4         1       1   \n",
      "4              5         0       3   \n",
      "..           ...       ...     ...   \n",
      "886          887         0       2   \n",
      "887          888         1       1   \n",
      "888          889         0       3   \n",
      "889          890         1       1   \n",
      "890          891         0       3   \n",
      "\n",
      "                                                  Name     Sex   Age  SibSp  \\\n",
      "0                              Braund, Mr. Owen Harris    male  22.0      1   \n",
      "1    Cumings, Mrs. John Bradley (Florence Briggs Th...  female  38.0      1   \n",
      "2                               Heikkinen, Miss. Laina  female  26.0      0   \n",
      "3         Futrelle, Mrs. Jacques Heath (Lily May Peel)  female  35.0      1   \n",
      "4                             Allen, Mr. William Henry    male  35.0      0   \n",
      "..                                                 ...     ...   ...    ...   \n",
      "886                              Montvila, Rev. Juozas    male  27.0      0   \n",
      "887                       Graham, Miss. Margaret Edith  female  19.0      0   \n",
      "888           Johnston, Miss. Catherine Helen \"Carrie\"  female   NaN      1   \n",
      "889                              Behr, Mr. Karl Howell    male  26.0      0   \n",
      "890                                Dooley, Mr. Patrick    male  32.0      0   \n",
      "\n",
      "     Parch            Ticket     Fare Cabin Embarked       title  \n",
      "0        0         A/5 21171   7.2500   NaN        S          Mr  \n",
      "1        0          PC 17599  71.2833   C85        C         Mrs  \n",
      "2        0  STON/O2. 3101282   7.9250   NaN        S        Miss  \n",
      "3        0            113803  53.1000  C123        S         Mrs  \n",
      "4        0            373450   8.0500   NaN        S          Mr  \n",
      "..     ...               ...      ...   ...      ...         ...  \n",
      "886      0            211536  13.0000   NaN        S  Rare Title  \n",
      "887      0            112053  30.0000   B42        S        Miss  \n",
      "888      2        W./C. 6607  23.4500   NaN        S        Miss  \n",
      "889      0            111369  30.0000  C148        C          Mr  \n",
      "890      0            370376   7.7500   NaN        Q          Mr  \n",
      "\n",
      "[891 rows x 13 columns]\n"
     ]
    }
   ],
   "source": [
    "print(readfile)"
   ]
  },
  {
   "cell_type": "code",
   "execution_count": 32,
   "id": "9f1a949b",
   "metadata": {},
   "outputs": [
    {
     "data": {
      "text/plain": [
       "title\n",
       "Mr            517\n",
       "Miss          182\n",
       "Mrs           125\n",
       "Master         40\n",
       "Rare Title     27\n",
       "Name: count, dtype: int64"
      ]
     },
     "execution_count": 32,
     "metadata": {},
     "output_type": "execute_result"
    }
   ],
   "source": [
    "readfile['title'].value_counts()"
   ]
  },
  {
   "cell_type": "code",
   "execution_count": 33,
   "id": "ec2a2aef",
   "metadata": {},
   "outputs": [
    {
     "data": {
      "text/plain": [
       "<Axes: xlabel='title', ylabel='count'>"
      ]
     },
     "execution_count": 33,
     "metadata": {},
     "output_type": "execute_result"
    },
    {
     "data": {
      "image/png": "[encoded data removed]",
      "text/plain": [
       "<Figure size 640x480 with 1 Axes>"
      ]
     },
     "metadata": {},
     "output_type": "display_data"
    }
   ],
   "source": [
    "sns.countplot(x='title',hue=\"Survived\",data=readfile)"
   ]
  },
  {
   "cell_type": "code",
   "execution_count": 34,
   "id": "37dfbe57",
   "metadata": {},
   "outputs": [
    {
     "data": {
      "text/html": [
       "<div>\n",
       "<style scoped>\n",
       "    .dataframe tbody tr th:only-of-type {\n",
       "        vertical-align: middle;\n",
       "    }\n",
       "\n",
       "    .dataframe tbody tr th {\n",
       "        vertical-align: top;\n",
       "    }\n",
       "\n",
       "    .dataframe thead th {\n",
       "        text-align: right;\n",
       "    }\n",
       "</style>\n",
       "<table border=\"1\" class=\"dataframe\">\n",
       "  <thead>\n",
       "    <tr style=\"text-align: right;\">\n",
       "      <th></th>\n",
       "      <th>PassengerId</th>\n",
       "      <th>Survived</th>\n",
       "      <th>Pclass</th>\n",
       "      <th>Name</th>\n",
       "      <th>Sex</th>\n",
       "      <th>Age</th>\n",
       "      <th>SibSp</th>\n",
       "      <th>Parch</th>\n",
       "      <th>Ticket</th>\n",
       "      <th>Fare</th>\n",
       "      <th>Cabin</th>\n",
       "      <th>Embarked</th>\n",
       "      <th>title</th>\n",
       "    </tr>\n",
       "  </thead>\n",
       "  <tbody>\n",
       "    <tr>\n",
       "      <th>0</th>\n",
       "      <td>1</td>\n",
       "      <td>0</td>\n",
       "      <td>3</td>\n",
       "      <td>Braund, Mr. Owen Harris</td>\n",
       "      <td>male</td>\n",
       "      <td>22.0</td>\n",
       "      <td>1</td>\n",
       "      <td>0</td>\n",
       "      <td>A/5 21171</td>\n",
       "      <td>7.2500</td>\n",
       "      <td>NaN</td>\n",
       "      <td>S</td>\n",
       "      <td>Mr</td>\n",
       "    </tr>\n",
       "    <tr>\n",
       "      <th>1</th>\n",
       "      <td>2</td>\n",
       "      <td>1</td>\n",
       "      <td>1</td>\n",
       "      <td>Cumings, Mrs. John Bradley (Florence Briggs Th...</td>\n",
       "      <td>female</td>\n",
       "      <td>38.0</td>\n",
       "      <td>1</td>\n",
       "      <td>0</td>\n",
       "      <td>PC 17599</td>\n",
       "      <td>71.2833</td>\n",
       "      <td>C85</td>\n",
       "      <td>C</td>\n",
       "      <td>Mrs</td>\n",
       "    </tr>\n",
       "  </tbody>\n",
       "</table>\n",
       "</div>"
      ],
      "text/plain": [
       "   PassengerId  Survived  Pclass  \\\n",
       "0            1         0       3   \n",
       "1            2         1       1   \n",
       "\n",
       "                                                Name     Sex   Age  SibSp  \\\n",
       "0                            Braund, Mr. Owen Harris    male  22.0      1   \n",
       "1  Cumings, Mrs. John Bradley (Florence Briggs Th...  female  38.0      1   \n",
       "\n",
       "   Parch     Ticket     Fare Cabin Embarked title  \n",
       "0      0  A/5 21171   7.2500   NaN        S    Mr  \n",
       "1      0   PC 17599  71.2833   C85        C   Mrs  "
      ]
     },
     "execution_count": 34,
     "metadata": {},
     "output_type": "execute_result"
    }
   ],
   "source": [
    "readfile.head(2)"
   ]
  },
  {
   "cell_type": "code",
   "execution_count": 36,
   "id": "619b6a1a",
   "metadata": {},
   "outputs": [],
   "source": [
    "readfile['Fsize']=readfile['SibSp']+ readfile['Parch']+1"
   ]
  },
  {
   "cell_type": "code",
   "execution_count": 37,
   "id": "a5072138",
   "metadata": {},
   "outputs": [
    {
     "data": {
      "text/plain": [
       "<Axes: xlabel='Fsize', ylabel='count'>"
      ]
     },
     "execution_count": 37,
     "metadata": {},
     "output_type": "execute_result"
    },
    {
     "data": {
      "image/png": "[encoded data removed]",
      "text/plain": [
       "<Figure size 640x480 with 1 Axes>"
      ]
     },
     "metadata": {},
     "output_type": "display_data"
    }
   ],
   "source": [
    "sns.countplot(x='Fsize',hue=\"Survived\",data=readfile)"
   ]
  }
 ],
 "metadata": {
  "kernelspec": {
   "display_name": "Python 3",
   "language": "python",
   "name": "python3"
  },
  "language_info": {
   "codemirror_mode": {
    "name": "ipython",
    "version": 3
   },
   "file_extension": ".py",
   "mimetype": "text/x-python",
   "name": "python",
   "nbconvert_exporter": "python",
   "pygments_lexer": "ipython3",
   "version": "3.13.7"
  }
 },
 "nbformat": 4,
 "nbformat_minor": 5
}
