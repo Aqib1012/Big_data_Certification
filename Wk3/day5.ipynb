{
 "cells": [
  {
   "cell_type": "code",
   "execution_count": 1,
   "id": "b8056044",
   "metadata": {},
   "outputs": [],
   "source": [
    "import re"
   ]
  },
  {
   "cell_type": "code",
   "execution_count": 9,
   "id": "8b984c92",
   "metadata": {},
   "outputs": [
    {
     "name": "stdout",
     "output_type": "stream",
     "text": [
      "<re.Match object; span=(0, 17), match='The rain in Spain'>\n"
     ]
    }
   ],
   "source": [
    "\n",
    "txt = \"The rain in Spain\"\n",
    "x = re.search(\"^The.*Spain$\", txt)\n",
    "print(x)\n"
   ]
  },
  {
   "cell_type": "code",
   "execution_count": 4,
   "id": "59125bb4",
   "metadata": {},
   "outputs": [
    {
     "name": "stdout",
     "output_type": "stream",
     "text": [
      "['ai', 'ai']\n"
     ]
    }
   ],
   "source": [
    "import re\n",
    "txt = \"The rain in Spain\"\n",
    "x = re.findall(\"ai\", txt)\n",
    "print(x)\n"
   ]
  },
  {
   "cell_type": "code",
   "execution_count": 20,
   "id": "9e09c54a",
   "metadata": {},
   "outputs": [
    {
     "name": "stdout",
     "output_type": "stream",
     "text": [
      "['The', 'rain', 'in', 'Spain']\n"
     ]
    }
   ],
   "source": [
    "#The split() function returns a list where the string has been split at each match:\n",
    "txt = \"The rain in Spain\"\n",
    "x = re.split(r\"\\s\",txt)\n",
    "print(x) "
   ]
  },
  {
   "cell_type": "code",
   "execution_count": null,
   "id": "3093f39f",
   "metadata": {},
   "outputs": [
    {
     "name": "stdout",
     "output_type": "stream",
     "text": [
      "The9rain9in9Spain\n"
     ]
    }
   ],
   "source": [
    "#The sub() function replaces the matches with the text of your choice:\n",
    "\n",
    "txt = \"The rain in Spain\"\n",
    "x = re.sub(r\"\\s\", \"9\", txt)\n",
    "print(x)\n",
    "\n"
   ]
  },
  {
   "cell_type": "code",
   "execution_count": null,
   "id": "1ff5d61a",
   "metadata": {},
   "outputs": [
    {
     "name": "stdout",
     "output_type": "stream",
     "text": [
      "['The', 'rain', 'in', 'islamabad']\n"
     ]
    }
   ],
   "source": [
    "################## Assigmnet #################\n",
    "\n",
    "#1\n",
    "txt = \"The rain in islamabad\"\n",
    "x = re.split(r\"\\s\", txt)           #####\\s → whitespace par split.\n",
    "print(x)"
   ]
  },
  {
   "cell_type": "code",
   "execution_count": null,
   "id": "162515ee",
   "metadata": {},
   "outputs": [
    {
     "name": "stdout",
     "output_type": "stream",
     "text": [
      "['sun', 'sets', 'Spain', 'shines', 'silently']\n"
     ]
    }
   ],
   "source": [
    "#2\n",
    "txt = \"The sun sets in Spain and shines silently\"\n",
    "x = re.findall(r\"\\bs\\w+\", txt, flags=re.IGNORECASE)\n",
    "print(x)                     ###### \\b → word boundary,\n",
    "                             ###### s\\w+ → words starting with \"s\" (or \"S\" because IGNORECASE)."
   ]
  },
  {
   "cell_type": "code",
   "execution_count": null,
   "id": "e508c0da",
   "metadata": {},
   "outputs": [
    {
     "name": "stdout",
     "output_type": "stream",
     "text": [
      "['123', '15', '7']\n"
     ]
    }
   ],
   "source": [
    "#3\n",
    "txt = \"Order 123 was shipped on 15th, expected in 7 days\"\n",
    "x = re.findall(r\"\\d+\", txt)            #######\\d+ → match one or more digits.\n",
    "print(x)"
   ]
  },
  {
   "cell_type": "code",
   "execution_count": 25,
   "id": "388d18c7",
   "metadata": {},
   "outputs": [
    {
     "name": "stdout",
     "output_type": "stream",
     "text": [
      "R*g*l*r *xpr*ss**ns *r* P*w*rf*l\n"
     ]
    }
   ],
   "source": [
    "#4\n",
    "txt = \"Regular Expressions are Powerful\"\n",
    "x = re.sub(r\"[aeiouAEIOU]\", \"*\", txt)      #####[aeiouAEIOU] → match vowels and replace.\n",
    "print(x)      "
   ]
  },
  {
   "cell_type": "code",
   "execution_count": 28,
   "id": "cbd32ede",
   "metadata": {},
   "outputs": [
    {
     "name": "stdout",
     "output_type": "stream",
     "text": [
      "Only letters\n"
     ]
    }
   ],
   "source": [
    "#5\n",
    "txt = \"HelloWorld\"\n",
    "x = re.fullmatch(r\"[a-zA-Z]+\", txt)           #####match only letters (no numbers or symbols).\n",
    "print(\"Only letters\" if x else \"Contains other characters\")"
   ]
  },
  {
   "cell_type": "code",
   "execution_count": null,
   "id": "e39af50b",
   "metadata": {},
   "outputs": [
    {
     "name": "stdout",
     "output_type": "stream",
     "text": [
      "C:ewfolder\\data.txt\n"
     ]
    }
   ],
   "source": [
    "path = r\"C:ewfolder\\data.txt\"  ###R is lia likhty hain k \\ ko wo like \\n consider krta is trha \\\\ dalni pary gi is lia r key to to raw string bn jay gi\n",
    "print(path)"
   ]
  }
 ],
 "metadata": {
  "kernelspec": {
   "display_name": "Python 3",
   "language": "python",
   "name": "python3"
  },
  "language_info": {
   "codemirror_mode": {
    "name": "ipython",
    "version": 3
   },
   "file_extension": ".py",
   "mimetype": "text/x-python",
   "name": "python",
   "nbconvert_exporter": "python",
   "pygments_lexer": "ipython3",
   "version": "3.13.7"
  }
 },
 "nbformat": 4,
 "nbformat_minor": 5
}
