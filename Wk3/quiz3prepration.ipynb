{
 "cells": [
  {
   "cell_type": "code",
   "execution_count": 5,
   "id": "b022aab7",
   "metadata": {},
   "outputs": [],
   "source": [
    "##################Quiz Prepreation###############\n",
    "\n",
    "import numpy as np  ## this library is use to deal with numerical values"
   ]
  },
  {
   "cell_type": "code",
   "execution_count": 19,
   "id": "85a6e042",
   "metadata": {},
   "outputs": [
    {
     "name": "stdout",
     "output_type": "stream",
     "text": [
      "[[1 2 3]\n",
      " [2 3 4]]\n"
     ]
    }
   ],
   "source": [
    "Array1=np.array([[1,2,3],[2,3,4]])\n",
    "\n",
    "print(Array1)"
   ]
  },
  {
   "cell_type": "code",
   "execution_count": null,
   "id": "b6c8f6b0",
   "metadata": {},
   "outputs": [
    {
     "name": "stdout",
     "output_type": "stream",
     "text": [
      "2\n",
      "6\n",
      "(2, 3)\n",
      "int64\n"
     ]
    }
   ],
   "source": [
    "print(Array1.ndim) ####this is use to show dimentions of array\n",
    "\n",
    "print(Array1.size) #### To show no of elements\n",
    "\n",
    "print(Array1.shape) #### To show no of rows and column\n",
    "\n",
    "print(Array1.dtype) #### To show data type of array"
   ]
  },
  {
   "cell_type": "code",
   "execution_count": null,
   "id": "b595b1d2",
   "metadata": {},
   "outputs": [
    {
     "name": "stdout",
     "output_type": "stream",
     "text": [
      "(1, 2, 3, 3, 4, 5)\n",
      "[3 5 7]\n"
     ]
    }
   ],
   "source": [
    "######### Comparision of list and arrays############\n",
    "\n",
    "list1=(1,2,3)\n",
    "lits2=(3,4,5)\n",
    "\n",
    "list3=list1+lits2\n",
    "\n",
    "print(list3)         #############List will merge both lists\n",
    "\n",
    "arr1=np.array([1,2,3])\n",
    "arr2=np.array([2,3,4])\n",
    "\n",
    "arr3=arr1+arr2\n",
    "\n",
    "print(arr3)          ############### Array will perform addision of matrixes of arrays"
   ]
  },
  {
   "cell_type": "code",
   "execution_count": 26,
   "id": "f91339a1",
   "metadata": {},
   "outputs": [
    {
     "name": "stdout",
     "output_type": "stream",
     "text": [
      "2\n",
      "[2 3 4]\n"
     ]
    }
   ],
   "source": [
    "######### Slicing and indexing############\n",
    "\n",
    "arr0=np.array([1,2,3,4,5])\n",
    "print(arr0[1])\n",
    "\n",
    "print(arr0[1:4])"
   ]
  },
  {
   "cell_type": "code",
   "execution_count": 36,
   "id": "72d8516f",
   "metadata": {},
   "outputs": [
    {
     "name": "stdout",
     "output_type": "stream",
     "text": [
      "[1 2 3]\n",
      "[100   2   3]\n"
     ]
    }
   ],
   "source": [
    "######### copy vs view ############\n",
    "\n",
    "arr = np.array([1, 2, 3])\n",
    "copy_arr = arr.copy()\n",
    "\n",
    "copy_arr[0] = 100\n",
    "\n",
    "print(arr)       # [1 2 3]   (NO CHANGE)\n",
    "print(copy_arr)\n",
    "\n"
   ]
  },
  {
   "cell_type": "code",
   "execution_count": null,
   "id": "0998ca46",
   "metadata": {},
   "outputs": [
    {
     "name": "stdout",
     "output_type": "stream",
     "text": [
      "[100   2   3]\n",
      "[100   2   3]\n"
     ]
    }
   ],
   "source": [
    "arr = np.array([1, 2, 3])\n",
    "V_arr = arr.view()\n",
    "\n",
    "V_arr[0] = 100\n",
    "\n",
    "print(arr)       \n",
    "print(V_arr)"
   ]
  },
  {
   "cell_type": "code",
   "execution_count": 45,
   "id": "87926735",
   "metadata": {},
   "outputs": [
    {
     "name": "stdout",
     "output_type": "stream",
     "text": [
      "(6,)\n",
      "[[1 2 3]\n",
      " [4 5 6]]\n"
     ]
    }
   ],
   "source": [
    "###Reshap Function\n",
    "\n",
    "a=np.array([1,2,3,4,5,6])\n",
    "print(a.shape)\n",
    "\n",
    "b=a.reshape(2,3)     ##### reshap k lia element size same hona chaya men a ka size 4 tha ab 2,2 ki e bna skty\n",
    "print(b)\n"
   ]
  },
  {
   "cell_type": "code",
   "execution_count": 48,
   "id": "693105ae",
   "metadata": {},
   "outputs": [
    {
     "name": "stdout",
     "output_type": "stream",
     "text": [
      "[11  2  9 18  9 15 11 14 18 15 14 17 19  9 15 12  7  5 15 14  4  9  8 13\n",
      "  3 16 19 17  9  7]\n"
     ]
    }
   ],
   "source": [
    "a=np.random.randint(2,20,30)\n",
    "print(a)\n",
    " \n",
    "      "
   ]
  },
  {
   "cell_type": "code",
   "execution_count": 53,
   "id": "912bc336",
   "metadata": {},
   "outputs": [
    {
     "name": "stdout",
     "output_type": "stream",
     "text": [
      "[3 4]\n"
     ]
    }
   ],
   "source": [
    "arrr=np.array([2,3,4,5])\n",
    "\n",
    "a=np.random.choice(arrr,2)  #array k size sy ziada b size dhy skty\n",
    "\n",
    "print(a)"
   ]
  },
  {
   "cell_type": "code",
   "execution_count": null,
   "id": "34e82503",
   "metadata": {},
   "outputs": [
    {
     "name": "stdout",
     "output_type": "stream",
     "text": [
      "[[1. 0. 0. 0. 0. 0.]\n",
      " [0. 1. 0. 0. 0. 0.]\n",
      " [0. 0. 1. 0. 0. 0.]\n",
      " [0. 0. 0. 1. 0. 0.]\n",
      " [0. 0. 0. 0. 1. 0.]\n",
      " [0. 0. 0. 0. 0. 1.]]\n"
     ]
    }
   ],
   "source": [
    "\n",
    "a=np.identity(6) ### Rows r column \n",
    "print(a)\n"
   ]
  },
  {
   "cell_type": "code",
   "execution_count": null,
   "id": "d42490ed",
   "metadata": {},
   "outputs": [
    {
     "name": "stdout",
     "output_type": "stream",
     "text": [
      "[[1 4]\n",
      " [2 5]\n",
      " [3 6]]\n",
      "[[1 4]\n",
      " [2 5]\n",
      " [3 6]]\n"
     ]
    }
   ],
   "source": [
    "A = np.array([[1, 2, 3],\n",
    "              [4, 5, 6]])\n",
    "\n",
    "b=np.transpose(A)\n",
    "\n",
    "print(b)\n"
   ]
  },
  {
   "cell_type": "code",
   "execution_count": 69,
   "id": "4524e9c0",
   "metadata": {},
   "outputs": [
    {
     "name": "stdout",
     "output_type": "stream",
     "text": [
      "[[ 0.42857143 -0.28571429]\n",
      " [-0.07142857  0.21428571]]\n",
      "29\n",
      "14.000000000000004\n"
     ]
    }
   ],
   "source": [
    "arry1=np.array([1,2,3])\n",
    "arry2=np.array([3,4,6]) ### if there will be 2d array rows*colm \n",
    "arry3 = np.array([[3, 4],    ##### Inverse will be perform when there will be square matrix no of rows and columns should same \n",
    "                  [1, 6]])\n",
    "\n",
    "dot_prod=np.dot(arry1,arry2)\n",
    "Inv_arr=np.linalg.inv(arry3)\n",
    "determinant_arry3=np.linalg.det(arry3)\n",
    "print(Inv_arr)\n",
    "\n",
    "print(dot_prod)\n",
    "print(determinant_arry3)\n"
   ]
  },
  {
   "cell_type": "code",
   "execution_count": 79,
   "id": "cfcad74e",
   "metadata": {},
   "outputs": [
    {
     "name": "stdout",
     "output_type": "stream",
     "text": [
      "2\n",
      "46\n",
      "[12 80 36  2  4  6 10 20 30]\n"
     ]
    }
   ],
   "source": [
    "\n",
    "AA= np.array([[12,80,36],\n",
    "              [2, 4, 6],\n",
    "              [10,20,30]])\n",
    "arr_rank=np.linalg.matrix_rank(AA)\n",
    "\n",
    "print(arr_rank)\n",
    "print(AA.trace())  ### this will sum diaginal \n",
    "print(AA.flatten()) ### This will convert matrixes in a row"
   ]
  },
  {
   "cell_type": "code",
   "execution_count": 90,
   "id": "47a5c6f0",
   "metadata": {},
   "outputs": [
    {
     "name": "stdout",
     "output_type": "stream",
     "text": [
      "6\n",
      "2.0\n",
      "0.816496580927726\n",
      "1\n",
      "3\n",
      "0\n",
      "2\n"
     ]
    }
   ],
   "source": [
    "aaa=np.array([1,2,3])\n",
    "\n",
    "array_sum=np.sum(aaa)\n",
    "array_mean=np.mean(aaa)\n",
    "array_standarddev=np.std(aaa)\n",
    "array_min=np.min(aaa)\n",
    "array_max=np.max(aaa)\n",
    "array_minargs=np.argmin(aaa)  ## ye min value ka index bttata\n",
    "array_maxargs=np.argmax(aaa)  ## ye max value ka index bttata\n",
    "\n",
    "\n",
    "\n",
    "print(array_sum)\n",
    "print(array_mean)\n",
    "print(array_standarddev)\n",
    "print(array_min)\n",
    "print(array_max)\n",
    "print(array_minargs)\n",
    "print(array_maxargs)\n"
   ]
  },
  {
   "cell_type": "code",
   "execution_count": null,
   "id": "9f5c9aad",
   "metadata": {},
   "outputs": [
    {
     "name": "stdout",
     "output_type": "stream",
     "text": [
      "[ 24 104  72]\n",
      "[128  12  60]\n"
     ]
    }
   ],
   "source": [
    "###### Axis parameter\n",
    "\n",
    "ax_array= np.array([[12,80,36],\n",
    "              [2, 4, 6],\n",
    "              [10,20,30]])\n",
    "\n",
    "col_sum=np.sum(ax_array,axis=0)\n",
    "row_sum=np.sum(ax_array, axis=1)\n",
    "\n",
    "\n",
    "print(col_sum)\n",
    "print(row_sum)\n"
   ]
  },
  {
   "cell_type": "code",
   "execution_count": 107,
   "id": "155448d0",
   "metadata": {},
   "outputs": [
    {
     "name": "stdout",
     "output_type": "stream",
     "text": [
      "Before Dataframe\n",
      "{'Name': ['Ali', 'Sara', 'John', 'Aqib', 'Saqib', 'Rakish'], 'Age': [20, 21, 19, 23, 25, 27], 'Marks': [85, 90, 88, 66, 78, 89]}\n",
      "after Data Frame\n",
      "     Name  Age  Marks\n",
      "0     Ali   20     85\n",
      "1    Sara   21     90\n",
      "2    John   19     88\n",
      "3    Aqib   23     66\n",
      "4   Saqib   25     78\n",
      "5  Rakish   27     89\n"
     ]
    }
   ],
   "source": [
    "##################### Panda ##########\n",
    "\n",
    "import pandas as pd\n",
    "\n",
    "##  data convert to dataframe mean convert to table\n",
    "\n",
    "data = {\"Name\": [\"Ali\", \"Sara\", \"John\",\"Aqib\",\"Saqib\",\"Rakish\"],\n",
    "        \"Age\": [20, 21, 19,23,25,27],\n",
    "        \"Marks\": [85, 90, 88, 66,78,89]}\n",
    "\n",
    "print(\"Before Dataframe\")\n",
    "print(data)\n",
    "\n",
    "tb=pd.DataFrame(data)\n",
    "print(\"after Data Frame\")\n",
    "print(tb)\n",
    "\n",
    "\n"
   ]
  },
  {
   "cell_type": "code",
   "execution_count": null,
   "id": "34844515",
   "metadata": {},
   "outputs": [
    {
     "name": "stdout",
     "output_type": "stream",
     "text": [
      "<class 'pandas.core.frame.DataFrame'>\n",
      "RangeIndex: 6 entries, 0 to 5\n",
      "Data columns (total 3 columns):\n",
      " #   Column  Non-Null Count  Dtype \n",
      "---  ------  --------------  ----- \n",
      " 0   Name    6 non-null      object\n",
      " 1   Age     6 non-null      int64 \n",
      " 2   Marks   6 non-null      int64 \n",
      "dtypes: int64(2), object(1)\n",
      "memory usage: 276.0+ bytes\n",
      "    Name  Age  Marks\n",
      "0    Ali   20     85\n",
      "1   Sara   21     90\n",
      "2   John   19     88\n",
      "3   Aqib   23     66\n",
      "4  Saqib   25     78\n",
      "     Name  Age  Marks\n",
      "1    Sara   21     90\n",
      "2    John   19     88\n",
      "3    Aqib   23     66\n",
      "4   Saqib   25     78\n",
      "5  Rakish   27     89\n",
      "             Age      Marks\n",
      "count   6.000000   6.000000\n",
      "mean   22.500000  82.666667\n",
      "std     3.082207   9.244818\n",
      "min    19.000000  66.000000\n",
      "25%    20.250000  79.750000\n",
      "50%    22.000000  86.500000\n",
      "75%    24.500000  88.750000\n",
      "max    27.000000  90.000000\n",
      "Index(['Name', 'Age', 'Marks'], dtype='object')\n",
      "RangeIndex(start=0, stop=6, step=1)\n",
      "None\n"
     ]
    }
   ],
   "source": [
    "fisrt_5col=tb.head()  ## by pass a num can spacify how many columns should show and this will work only on table not discioanry\n",
    "\n",
    "last_5col=tb.tail() ## Last 5 records\n",
    "\n",
    "detail_colms=tb.describe() \n",
    "\n",
    "colmn_names= tb.columns\n",
    "\n",
    "Index_info=tb.index  ## indexes info from where start,end and gap between\n",
    "\n",
    "\n",
    "print(fisrt_5col)\n",
    "print(last_5col)\n",
    "print(detail_colms)\n",
    "print(colmn_names)\n",
    "print(Index_info)\n"
   ]
  },
  {
   "cell_type": "code",
   "execution_count": 115,
   "id": "26b61720",
   "metadata": {},
   "outputs": [
    {
     "name": "stdout",
     "output_type": "stream",
     "text": [
      "<class 'pandas.core.frame.DataFrame'>\n",
      "RangeIndex: 6 entries, 0 to 5\n",
      "Data columns (total 3 columns):\n",
      " #   Column  Non-Null Count  Dtype \n",
      "---  ------  --------------  ----- \n",
      " 0   Name    6 non-null      object\n",
      " 1   Age     6 non-null      int64 \n",
      " 2   Marks   6 non-null      int64 \n",
      "dtypes: int64(2), object(1)\n",
      "memory usage: 276.0+ bytes\n",
      "None\n"
     ]
    }
   ],
   "source": [
    "Info_dataset=tb.info()\n",
    "\n",
    "print(Info_dataset)\n"
   ]
  },
  {
   "cell_type": "code",
   "execution_count": 116,
   "id": "6840d553",
   "metadata": {},
   "outputs": [],
   "source": [
    "###########################   sqllite  ######################\n",
    "\n",
    "import sqlite3 as sq"
   ]
  },
  {
   "cell_type": "code",
   "execution_count": 117,
   "id": "de0d6210",
   "metadata": {},
   "outputs": [],
   "source": [
    "conn=sq.Connection(\"Quizprep.db\")\n"
   ]
  },
  {
   "cell_type": "code",
   "execution_count": 118,
   "id": "a908313d",
   "metadata": {},
   "outputs": [],
   "source": [
    "cur=conn.cursor()"
   ]
  },
  {
   "cell_type": "code",
   "execution_count": 119,
   "id": "d493f07d",
   "metadata": {},
   "outputs": [
    {
     "data": {
      "text/plain": [
       "<sqlite3.Cursor at 0x1ed610acec0>"
      ]
     },
     "execution_count": 119,
     "metadata": {},
     "output_type": "execute_result"
    }
   ],
   "source": [
    "cur.execute(''' Create table if not exists quizpre(id int,name string,rollno int)''' )"
   ]
  },
  {
   "cell_type": "code",
   "execution_count": null,
   "id": "26d77bf3",
   "metadata": {},
   "outputs": [],
   "source": [
    "    "
   ]
  },
  {
   "cell_type": "code",
   "execution_count": null,
   "id": "4d9e2801",
   "metadata": {},
   "outputs": [],
   "source": []
  }
 ],
 "metadata": {
  "kernelspec": {
   "display_name": "Python 3",
   "language": "python",
   "name": "python3"
  },
  "language_info": {
   "codemirror_mode": {
    "name": "ipython",
    "version": 3
   },
   "file_extension": ".py",
   "mimetype": "text/x-python",
   "name": "python",
   "nbconvert_exporter": "python",
   "pygments_lexer": "ipython3",
   "version": "3.13.7"
  }
 },
 "nbformat": 4,
 "nbformat_minor": 5
}
