{
 "cells": [
  {
   "cell_type": "code",
   "execution_count": 5,
   "id": "b022aab7",
   "metadata": {},
   "outputs": [],
   "source": [
    "##################Quiz Prepreation###############\n",
    "\n",
    "import numpy as np  ## this library is use to deal with numerical values"
   ]
  },
  {
   "cell_type": "code",
   "execution_count": 19,
   "id": "85a6e042",
   "metadata": {},
   "outputs": [
    {
     "name": "stdout",
     "output_type": "stream",
     "text": [
      "[[1 2 3]\n",
      " [2 3 4]]\n"
     ]
    }
   ],
   "source": [
    "Array1=np.array([[1,2,3],[2,3,4]])\n",
    "\n",
    "print(Array1)"
   ]
  },
  {
   "cell_type": "code",
   "execution_count": null,
   "id": "b6c8f6b0",
   "metadata": {},
   "outputs": [
    {
     "name": "stdout",
     "output_type": "stream",
     "text": [
      "2\n",
      "6\n",
      "(2, 3)\n",
      "int64\n"
     ]
    }
   ],
   "source": [
    "print(Array1.ndim) ####this is use to show dimentions of array\n",
    "\n",
    "print(Array1.size) #### To show no of elements\n",
    "\n",
    "print(Array1.shape) #### To show no of rows and column\n",
    "\n",
    "print(Array1.dtype) #### To show data type of array"
   ]
  }
 ],
 "metadata": {
  "kernelspec": {
   "display_name": "Python 3",
   "language": "python",
   "name": "python3"
  },
  "language_info": {
   "codemirror_mode": {
    "name": "ipython",
    "version": 3
   },
   "file_extension": ".py",
   "mimetype": "text/x-python",
   "name": "python",
   "nbconvert_exporter": "python",
   "pygments_lexer": "ipython3",
   "version": "3.13.7"
  }
 },
 "nbformat": 4,
 "nbformat_minor": 5
}
