{
 "cells": [
  {
   "cell_type": "code",
   "execution_count": null,
   "id": "f0cea973",
   "metadata": {},
   "outputs": [],
   "source": [
    "# oop\n",
    "\n",
    "class car:\n",
    "    pass    #to leave class empty\n"
   ]
  },
  {
   "cell_type": "code",
   "execution_count": null,
   "id": "d15f06b0",
   "metadata": {},
   "outputs": [],
   "source": [
    "a=car() #to make object"
   ]
  },
  {
   "cell_type": "code",
   "execution_count": 16,
   "id": "3f6fbc8a",
   "metadata": {},
   "outputs": [
    {
     "name": "stdout",
     "output_type": "stream",
     "text": [
      "Name:german,Age:21\n",
      "this is second function\n"
     ]
    }
   ],
   "source": [
    "#constructor is __init__ in python\n",
    "#self is basicaly is object which will \n",
    "class Dog:\n",
    "    def __init__(self,name,age):   #this is constructor\n",
    "        self.name=name\n",
    "        self.age=age\n",
    "        print(f\"Name:{name},Age:{age}\")\n",
    "    def secondfun(self):\n",
    "        print(\"this is second function\")    \n",
    "    \n",
    "dg=Dog(\"german\",21)  \n",
    "dg.secondfun()\n"
   ]
  },
  {
   "cell_type": "code",
   "execution_count": null,
   "id": "5f54a70a",
   "metadata": {},
   "outputs": [
    {
     "data": {
      "text/plain": [
       "'Aqib has pet Toto'"
      ]
     },
     "execution_count": 24,
     "metadata": {},
     "output_type": "execute_result"
    }
   ],
   "source": [
    "#Inheritance = Ek class ke properties aur methods ko dusri class me reuse karna.\n",
    "\n",
    "\n",
    "class Animal:\n",
    "    def __init__(self,name):\n",
    "        self.name=name\n",
    "    def speak(self):\n",
    "        print(\"sub class must be implement this method\")    \n",
    "\n",
    "class Pet:\n",
    "    def __init__(self,owner):\n",
    "\n",
    "        self.owner=owner\n",
    "\n",
    "class dog(Animal,Pet):    #this is the way to inherent classes of Animal and Pet\n",
    "    def __init__(self,name,owner):\n",
    "        Animal.__init__(self,name)\n",
    "        Pet.__init__(self,owner)\n",
    "    def speak(self):\n",
    "        return f\"{self.owner} has pet {self.name}\"    \n",
    "    \n",
    "s=dog(\"Toto\",\"Aqib\") \n",
    "s.speak()\n",
    "\n",
    "\n",
    "                    "
   ]
  },
  {
   "cell_type": "code",
   "execution_count": null,
   "id": "c3d4df31",
   "metadata": {},
   "outputs": [
    {
     "name": "stdout",
     "output_type": "stream",
     "text": [
      "1000\n",
      "1500\n"
     ]
    }
   ],
   "source": [
    "#Encapsulation = Data ko class ke andar wrap karna + functions ke zariye controlled access dena.\n",
    "#Ye data ko direct access se bachata hai (secure banata hai).\"\n",
    "class BankAccount:\n",
    "    def __init__(self, balance):\n",
    "        self.__balance = balance  # Data secure (private)\n",
    "\n",
    "    # Getter (sirf dekhne ke liye)\n",
    "    def get_balance(self):\n",
    "        return self.__balance\n",
    "\n",
    "    # Setter (sirf controlled update)\n",
    "    def deposit(self, amount):\n",
    "        if amount > 0:\n",
    "            self.__balance += amount\n",
    "        else:\n",
    "            print(\"Amount must be positive!\")\n",
    "\n",
    "acc = BankAccount(1000)\n",
    "\n",
    "print(acc.get_balance())  # ✅ balance dekha\n",
    "acc.deposit(500)          # ✅ balance badhaya (safe)\n",
    "print(acc.get_balance())\n"
   ]
  },
  {
   "cell_type": "code",
   "execution_count": 26,
   "id": "0a31ea99",
   "metadata": {},
   "outputs": [
    {
     "name": "stdout",
     "output_type": "stream",
     "text": [
      "Chirp Chirp\n",
      "Caw Caw\n"
     ]
    }
   ],
   "source": [
    "#Polymorphism ka matlab hai “ek hi naam, lekin alag-alag behavior.”\n",
    "#Matlab ek function/method ka same naam ho sakta hai, lekin alag objects usko alag tarike se implement karte hain.\n",
    "\n",
    "class Bird:\n",
    "    def sound(self):\n",
    "        print(\"Some bird sound\")\n",
    "\n",
    "class Sparrow(Bird):\n",
    "    def sound(self):   # Parent ka method override kiya\n",
    "        print(\"Chirp Chirp\")\n",
    "\n",
    "class Crow(Bird):\n",
    "    def sound(self):   # Parent ka method override kiya\n",
    "        print(\"Caw Caw\")\n",
    "\n",
    "for b in [Sparrow(), Crow()]:\n",
    "    b.sound()\n"
   ]
  },
  {
   "cell_type": "code",
   "execution_count": null,
   "id": "556bc442",
   "metadata": {},
   "outputs": [
    {
     "name": "stdout",
     "output_type": "stream",
     "text": [
      "Car engine started\n",
      "Bike engine started\n"
     ]
    }
   ],
   "source": [
    "#Abstraction = Hide Implementation, Expose Interface.\n",
    "from abc import ABC, abstractmethod\n",
    "\n",
    "class Vehicle(ABC):          # Abstract Class\n",
    "    @abstractmethod\n",
    "    def start(self):\n",
    "        pass\n",
    "\n",
    "class Car(Vehicle):          # Concrete Class\n",
    "    def start(self):\n",
    "        print(\"Car engine started\")\n",
    "\n",
    "class Bike(Vehicle):         # Concrete Class\n",
    "    def start(self):\n",
    "        print(\"Bike engine started\")\n",
    "\n",
    "# User Code (Doesn't know how engine works)\n",
    "vehicles = [Car(), Bike()]\n",
    "for v in vehicles:\n",
    "    v.start()\n"
   ]
  }
 ],
 "metadata": {
  "kernelspec": {
   "display_name": "Python 3",
   "language": "python",
   "name": "python3"
  },
  "language_info": {
   "codemirror_mode": {
    "name": "ipython",
    "version": 3
   },
   "file_extension": ".py",
   "mimetype": "text/x-python",
   "name": "python",
   "nbconvert_exporter": "python",
   "pygments_lexer": "ipython3",
   "version": "3.12.4"
  }
 },
 "nbformat": 4,
 "nbformat_minor": 5
}
