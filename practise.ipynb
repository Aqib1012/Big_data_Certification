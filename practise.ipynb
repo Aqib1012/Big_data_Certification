{
 "cells": [
  {
   "cell_type": "code",
   "execution_count": null,
   "id": "fc93ecc5",
   "metadata": {},
   "outputs": [
    {
     "name": "stdout",
     "output_type": "stream",
     "text": [
      "false\n",
      "150\n"
     ]
    }
   ],
   "source": [
    "######### INDENTATION #########\n",
    "a=12\n",
    "if a==10:\n",
    "    print(\"true\")   # spacing between lines\n",
    "else:\n",
    "    print(\"false\")    \n",
    "\n",
    "######### LINE CONTINUATION ##########\n",
    "\n",
    "a=10+20+30+\\\n",
    "40+50                #To go next line\n",
    "\n",
    "print(a)"
   ]
  },
  {
   "cell_type": "code",
   "execution_count": 7,
   "id": "1ebc6bdf",
   "metadata": {},
   "outputs": [
    {
     "name": "stdout",
     "output_type": "stream",
     "text": [
      "<class 'int'>\n",
      "<class 'float'>\n",
      "<class 'str'>\n",
      "<class 'str'>\n",
      "<class 'bool'>\n"
     ]
    }
   ],
   "source": [
    "######### TYPE ##########\n",
    "\n",
    "a=10\n",
    "\n",
    "type(a)\n",
    "######### VARIABLES ##########\n",
    "\n",
    "a=10;b=10.1;c=\"aqib\";d='a';e=True\n",
    "\n",
    "print(type(a))\n",
    "print(type(b))\n",
    "print(type(c))\n",
    "print(type(d))\n",
    "print(type(e))\n"
   ]
  },
  {
   "cell_type": "code",
   "execution_count": null,
   "id": "93f73033",
   "metadata": {},
   "outputs": [
    {
     "name": "stdout",
     "output_type": "stream",
     "text": [
      "Your age is: 20.0\n"
     ]
    }
   ],
   "source": [
    "######### INPUT AND OPERATIONS #########\n",
    "age=float(input(\"Enter Your age\"))\n",
    "\n",
    "print(\"Your age is:\",age)"
   ]
  },
  {
   "cell_type": "code",
   "execution_count": 12,
   "id": "6de3e650",
   "metadata": {},
   "outputs": [
    {
     "name": "stdout",
     "output_type": "stream",
     "text": [
      "Both are same\n",
      "same\n",
      "enter num2 except 0 beacause 0 is not divisible\n"
     ]
    }
   ],
   "source": [
    "######### COMPARISON #########\n",
    "a=20;b=20\n",
    "\n",
    "if a==b:\n",
    "    print(\"Both are same\")\n",
    "else:\n",
    "    print(\"Both are different\")  \n",
    "\n",
    "#########  LOGICAL #########\n",
    "if a>=b:\n",
    "    print(\"same\")\n",
    "else:\n",
    "    print(\"Not same\")    \n",
    "#########  CONTROL FLOW  #########\n",
    "num1=float(input(\"ENter number 1\"))\n",
    "num2=float(input(\"enter number 2\"))\n",
    "op=input(\"enter operator +,-,*,/\")\n",
    "\n",
    "if op =='+':\n",
    "    print(\"sum of num1 and num2 is:\",num1+num2)\n",
    "elif op=='-':\n",
    "        print(\"sub of num1 and num2 is:\",num1-num2)\n",
    "elif op=='*':\n",
    "     print(\"addition of num1 and num2 is:\",num1*num2)\n",
    "elif op=='/':\n",
    "     if(num2==0):\n",
    "          print(\"enter num2 except 0 beacause 0 is not divisible\")\n",
    "     else:\n",
    "          print(\"div of num1 and num2 is:\",num1/num2)  \n",
    "else:\n",
    "     print(\"Enter required fields first\")                          "
   ]
  },
  {
   "cell_type": "code",
   "execution_count": null,
   "id": "045da685",
   "metadata": {},
   "outputs": [
    {
     "name": "stdout",
     "output_type": "stream",
     "text": [
      "0\n",
      "1\n",
      "2\n",
      "3\n",
      "4\n",
      "5\n",
      "6\n",
      "7\n",
      "8\n",
      "9\n"
     ]
    }
   ],
   "source": [
    "#########  RANGE AND FOR LOOP  #########\n",
    "for i in range (10):\n",
    "    print(i)"
   ]
  },
  {
   "cell_type": "code",
   "execution_count": 20,
   "id": "bb3b0a4c",
   "metadata": {},
   "outputs": [
    {
     "name": "stdout",
     "output_type": "stream",
     "text": [
      "10\n",
      "11\n",
      "12\n",
      "13\n",
      "14\n",
      "15\n",
      "16\n",
      "17\n",
      "18\n",
      "19\n",
      "20\n",
      "2\n",
      "3\n",
      "5\n",
      "7\n",
      "11\n",
      "13\n",
      "17\n",
      "19\n",
      "23\n",
      "29\n",
      "31\n",
      "37\n",
      "41\n",
      "43\n",
      "47\n",
      "53\n",
      "59\n",
      "61\n",
      "67\n",
      "71\n",
      "73\n",
      "79\n",
      "83\n",
      "89\n",
      "97\n"
     ]
    }
   ],
   "source": [
    "#########  WHILE LOOP    #########\n",
    "\n",
    "a=10\n",
    "while a<=20:\n",
    " print(a)\n",
    " a=a+1\n",
    "\n",
    "## Example- Prime numbers between 1 and 100\n",
    "\n",
    "for num in range(1, 101):  # 1 se 100 tak numbers check karo\n",
    "    if num > 1:  # prime numbers hamesha 1 se bade hote hain\n",
    "        for i in range(2, num):  # 2 se le kar num-1 tak divide karke check karo\n",
    "            if num % i == 0:  # agar evenly divide ho gaya\n",
    "                break         # prime nahi hai, loop break karo\n",
    "        else:  # ye 'else' for loop ke sath hai (tab run hota hai jab loop break na ho)\n",
    "            print(num)  # prime number print karo\n",
    " "
   ]
  },
  {
   "cell_type": "code",
   "execution_count": null,
   "id": "088d7462",
   "metadata": {},
   "outputs": [],
   "source": [
    "studentslist=[]"
   ]
  },
  {
   "cell_type": "code",
   "execution_count": 31,
   "id": "f7c64f98",
   "metadata": {},
   "outputs": [
    {
     "name": "stdout",
     "output_type": "stream",
     "text": [
      "['aqib', 'saqib']\n",
      "['aqib', 'saqib', 'mohsin']\n",
      "['aqib', 'saqib']\n",
      "['aqib', 'saqib', 'mohsin']\n",
      "['aqib', 'saqib']\n",
      "['aqib', 'raffi', 'saqib']\n",
      "3\n",
      "a\n",
      "q\n",
      "i\n",
      "b\n"
     ]
    }
   ],
   "source": [
    "studentnames=['aqib','saqib']\n",
    "\n",
    "print(studentnames)\n",
    "\n",
    "studentnames.append('mohsin')\n",
    "print(studentnames)\n",
    "studentnames.remove('mohsin')\n",
    "print(studentnames)\n",
    "studentnames.append('mohsin')\n",
    "print(studentnames)\n",
    "studentnames.pop()\n",
    "print(studentnames)\n",
    "\n",
    "studentnames.insert(1,'raffi')\n",
    "\n",
    "print(studentnames)\n",
    "\n",
    "cn=studentnames.__len__()\n",
    "\n",
    "print(cn)\n",
    "\n",
    "aq=\"aqib\"\n",
    "\n",
    "for i in aq:\n",
    "    print(i)\n",
    "\n"
   ]
  },
  {
   "cell_type": "code",
   "execution_count": 35,
   "id": "0e647bc1",
   "metadata": {},
   "outputs": [
    {
     "name": "stdout",
     "output_type": "stream",
     "text": [
      "[0, 1, 4, 9, 16, 25, 36, 49, 64, 81]\n"
     ]
    }
   ],
   "source": [
    "\n",
    "num=10\n",
    "sq= [i**2 for i in range(num)]\n",
    "print(sq)"
   ]
  },
  {
   "cell_type": "code",
   "execution_count": 36,
   "id": "1add9050",
   "metadata": {},
   "outputs": [
    {
     "name": "stdout",
     "output_type": "stream",
     "text": [
      "Hello Talha Welcome To the paradise\n"
     ]
    }
   ],
   "source": [
    "def greet(name=\"Guest\"):\n",
    "  print(f\"Hello {name} Welcome To the paradise\")\n",
    "\n",
    "greet(\"Talha\")"
   ]
  },
  {
   "cell_type": "code",
   "execution_count": 38,
   "id": "3c3e6302",
   "metadata": {},
   "outputs": [
    {
     "data": {
      "text/plain": [
       "24"
      ]
     },
     "execution_count": 38,
     "metadata": {},
     "output_type": "execute_result"
    }
   ],
   "source": [
    "even1=lambda num:num%2==0\n",
    "even1(12)\n",
    "\n",
    "addition=lambda n1,n2:n1+n2\n",
    "addition(12,12)"
   ]
  },
  {
   "cell_type": "code",
   "execution_count": 50,
   "id": "29e87073",
   "metadata": {},
   "outputs": [
    {
     "name": "stdout",
     "output_type": "stream",
     "text": [
      "['name', 'age', 'dep']\n",
      "age\n"
     ]
    }
   ],
   "source": [
    "dic={\n",
    "     \"name\":\"aqib\",\n",
    "     \"age\":\"21\",\n",
    "      \"dep\":\"com\"\n",
    "\n",
    "}\n",
    "\n",
    "ls=list(dic.keys())\n",
    "print(ls)\n",
    "print(ls[1])\n"
   ]
  },
  {
   "cell_type": "code",
   "execution_count": 51,
   "id": "8122b537",
   "metadata": {},
   "outputs": [
    {
     "data": {
      "text/plain": [
       "3000"
      ]
     },
     "execution_count": 51,
     "metadata": {},
     "output_type": "execute_result"
    }
   ],
   "source": [
    "# encapsulation\n",
    "\n",
    "class baccount:\n",
    "    def __init__(self,balance):\n",
    "     self.__balance=balance\n",
    "\n",
    "    def deoposit(self,amount):\n",
    "       self.__balance +=amount\n",
    "\n",
    "    def getbalance(self):\n",
    "       return self.__balance \n",
    "    \n",
    "\n",
    "b=baccount(1000)\n",
    "\n",
    "b.deoposit(2000)\n",
    "b.getbalance()\n",
    "\n",
    "\n",
    "       \n",
    "        \n",
    "\n"
   ]
  },
  {
   "cell_type": "code",
   "execution_count": 52,
   "id": "94af2ae3",
   "metadata": {},
   "outputs": [
    {
     "name": "stdout",
     "output_type": "stream",
     "text": [
      "1\n"
     ]
    }
   ],
   "source": [
    "fruitslist=[\"apple\",\"grapes\",\"orange\"]\n",
    "print(fruitslist.count(\"apple\"))"
   ]
  },
  {
   "cell_type": "code",
   "execution_count": 53,
   "id": "ebaee076",
   "metadata": {},
   "outputs": [
    {
     "name": "stdout",
     "output_type": "stream",
     "text": [
      "['apple', 'grapes', 'orange', 'ab']\n"
     ]
    }
   ],
   "source": [
    "fruitslist.insert(4,\"ab\")\n",
    "print(fruitslist)"
   ]
  },
  {
   "cell_type": "code",
   "execution_count": 3,
   "id": "c57a902c",
   "metadata": {},
   "outputs": [],
   "source": [
    "###Sqllite \n",
    "\n",
    "\n",
    "import sqlite3\n",
    "\n",
    "conn=sqlite3.connect(\"practise.db\")\n",
    "\n",
    "cursor=conn.cursor()\n",
    "conn.commit()\n",
    "\n"
   ]
  },
  {
   "cell_type": "code",
   "execution_count": 8,
   "id": "1eeed64d",
   "metadata": {},
   "outputs": [
    {
     "data": {
      "text/plain": [
       "<sqlite3.Cursor at 0x1b4e249f2c0>"
      ]
     },
     "execution_count": 8,
     "metadata": {},
     "output_type": "execute_result"
    }
   ],
   "source": [
    "cursor.execute(''' Create table if not exists Students( id int primary key,name text,section text)   ''')\n"
   ]
  },
  {
   "cell_type": "code",
   "execution_count": 13,
   "id": "290c5681",
   "metadata": {},
   "outputs": [
    {
     "data": {
      "text/plain": [
       "<sqlite3.Cursor at 0x1b4e249f2c0>"
      ]
     },
     "execution_count": 13,
     "metadata": {},
     "output_type": "execute_result"
    }
   ],
   "source": [
    "##cursor.execute(''' drop table Students''')\n",
    "\n",
    "cursor.execute('''insert into Students(name,section)Values(?,?) ''',(\"Aqib\",\"C\"))"
   ]
  },
  {
   "cell_type": "code",
   "execution_count": null,
   "id": "febc5c55",
   "metadata": {},
   "outputs": [],
   "source": [
    "conn.commit()"
   ]
  },
  {
   "cell_type": "code",
   "execution_count": 21,
   "id": "0fc4b01d",
   "metadata": {},
   "outputs": [
    {
     "name": "stdout",
     "output_type": "stream",
     "text": [
      "[(None, 'Aqib', 'C')]\n"
     ]
    }
   ],
   "source": [
    "rec=cursor.execute(''' Select *from Students''')\n",
    "\n",
    "print(rec.fetchall())"
   ]
  },
  {
   "cell_type": "code",
   "execution_count": null,
   "id": "fcabbc03",
   "metadata": {},
   "outputs": [
    {
     "name": "stdout",
     "output_type": "stream",
     "text": [
      "1\n",
      "2\n"
     ]
    }
   ],
   "source": [
    "import numpy as np\n",
    "\n",
    "array1=np.array([1,2,3])\n",
    "array2=np.array([[1,2,3],[2,3,4]])\n",
    "\n",
    "print(array1.ndim) #ndim Ye bas array ki dimensions (number of axes) batata hai.\n",
    "print(array2.ndim)\n"
   ]
  },
  {
   "cell_type": "code",
   "execution_count": 26,
   "id": "5f35cfbc",
   "metadata": {},
   "outputs": [
    {
     "name": "stdout",
     "output_type": "stream",
     "text": [
      "(3,)\n",
      "(2, 3)\n",
      "3\n",
      "6\n",
      "(2, 3, 3)\n",
      "18\n",
      "int64\n"
     ]
    }
   ],
   "source": [
    "print(array1.shape) #jb 1 dimention ho to iska mtlb is mai elements ki counting kia bs whi btay ga\n",
    "\n",
    "print(array2.shape) #shape is mai phly row or phr column ka number btata\n",
    "\n",
    "print(array1.size)  #agr 3 diemention ho to 1 wala no of blog ko represent krta or phr row or column\n",
    "print(array2.size)\n",
    "\n",
    "arr = np.array([\n",
    "    [[1, 2, 3],\n",
    "     [4, 5, 6],\n",
    "     [7, 8, 9]],\n",
    "\n",
    "    [[10, 11, 12],\n",
    "     [13, 14, 15],\n",
    "     [16, 17, 18]]\n",
    "])\n",
    "\n",
    "print(arr.shape)\n",
    "print(arr.size)\n",
    "print(arr.dtype)"
   ]
  },
  {
   "cell_type": "code",
   "execution_count": 28,
   "id": "ce3c1ac8",
   "metadata": {},
   "outputs": [
    {
     "name": "stdout",
     "output_type": "stream",
     "text": [
      "[1. 2. 3.]\n",
      "float64\n"
     ]
    }
   ],
   "source": [
    "#to change datatype of array\n",
    "\n",
    "ar3=np.array([1,2,3],dtype=float)\n",
    "print(ar3)\n",
    "print(ar3.dtype)"
   ]
  }
 ],
 "metadata": {
  "kernelspec": {
   "display_name": "Python 3",
   "language": "python",
   "name": "python3"
  },
  "language_info": {
   "codemirror_mode": {
    "name": "ipython",
    "version": 3
   },
   "file_extension": ".py",
   "mimetype": "text/x-python",
   "name": "python",
   "nbconvert_exporter": "python",
   "pygments_lexer": "ipython3",
   "version": "3.13.7"
  }
 },
 "nbformat": 4,
 "nbformat_minor": 5
}
